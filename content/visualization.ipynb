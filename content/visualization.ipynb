{
 "cells": [
  {
   "cell_type": "code",
   "execution_count": null,
   "metadata": {},
   "outputs": [],
   "source": [
    "from mpi4py import MPI\n",
    "import veloxchem as vlx\n",
    "import sys"
   ]
  },
  {
   "cell_type": "code",
   "execution_count": null,
   "metadata": {},
   "outputs": [],
   "source": [
    "# create geometry in XYZ format\n",
    "pyridine_xyz = \"\"\"11\n",
    "\n",
    "C       -0.180226841      0.360945118     -1.120304970\n",
    "C       -0.180226841      1.559292118     -0.407860970\n",
    "C       -0.180226841      1.503191118      0.986935030\n",
    "N       -0.180226841      0.360945118      1.29018350\n",
    "C       -0.180226841     -0.781300882      0.986935030\n",
    "C       -0.180226841     -0.837401882     -0.407860970\n",
    "H       -0.180226841      0.360945118     -2.206546970\n",
    "H       -0.180226841      2.517950118     -0.917077970\n",
    "H       -0.180226841      2.421289118      1.572099030\n",
    "H       -0.180226841     -1.699398882      1.572099030\n",
    "H       -0.180226841     -1.796059882     -0.917077970\n",
    "\"\"\"\n",
    "# just coordinates\n",
    "mol_str = \"\\n\".join(pyridine_xyz.split(\"\\n\")[1:])\n",
    "\n",
    "basis_set_label = 'def2-sv(p)'\n",
    "\n",
    "scf_settings = {'conv_thresh': 1.0e-6}\n",
    "method_settings = {'xcfun': 'slda', 'grid_level': 4}\n",
    "\n",
    "comm = MPI.COMM_WORLD\n",
    "ostream = vlx.OutputStream(sys.stdout)\n",
    "\n",
    "molecule = vlx.Molecule.read_str(mol_str, units='angstrom')\n",
    "basis = vlx.MolecularBasis.read(molecule, basis_set_label)\n",
    "\n",
    "ostream.print_block(molecule.get_string())\n",
    "ostream.print_block(basis.get_string('Atomic Basis', molecule))\n",
    "ostream.flush()\n",
    "\n",
    "scfdrv = vlx.ScfRestrictedDriver(comm, ostream)\n",
    "scfdrv.update_settings(scf_settings, method_settings)\n",
    "scfdrv.compute(molecule, basis)"
   ]
  },
  {
   "cell_type": "code",
   "execution_count": null,
   "metadata": {},
   "outputs": [],
   "source": [
    "# get the MOs and the density matrix\n",
    "mos = scfdrv.mol_orbs\n",
    "D = scfdrv.density\n",
    "\n",
    "# initialize visualization driver\n",
    "visdrv = vlx.VisualizationDriver(comm)\n",
    "\n",
    "# generate cube files\n",
    "visdrv.gen_cubes(cube_dict={\"cubes\": \"mo(homo),mo(lumo)\",}, molecule=molecule, basis=basis, mol_orbs=mos, density=D)"
   ]
  },
  {
   "cell_type": "code",
   "execution_count": null,
   "metadata": {},
   "outputs": [],
   "source": [
    "import py3Dmol as p3d"
   ]
  },
  {
   "cell_type": "code",
   "execution_count": null,
   "metadata": {},
   "outputs": [],
   "source": [
    "# generate view\n",
    "v = p3d.view(width=400, height=400)\n",
    "\n",
    "v.addModel(pyridine_xyz, \"xyz\")\n",
    "v.setStyle({'stick':{}})\n",
    "\n",
    "with open(\"cube_2.cube\", \"r\") as f:\n",
    "    cube = f.read()\n",
    "    \n",
    "# negative lobe    \n",
    "v.addVolumetricData(cube, \"cube\", {\"isoval\": -0.02, \"color\": \"blue\", \"opacity\": 0.75})\n",
    "# positive lobe\n",
    "v.addVolumetricData(cube, \"cube\", {\"isoval\": 0.02, \"color\": \"red\", \"opacity\": 0.75})\n",
    "\n",
    "v.show()"
   ]
  },
  {
   "cell_type": "code",
   "execution_count": null,
   "metadata": {},
   "outputs": [],
   "source": [
    "from ipywidgets import interact, fixed\n",
    "\n",
    "\n",
    "def draw_geometry_and_cube(mol_xyz, cube_no):\n",
    "    # Adapted from: https://adreasnow.com/Cheat%20Sheets/Python/Psi4Interactive/#viewing-psi4-molecules-with-cubes-py3dmol\n",
    "    \n",
    "    # read volumetric data\n",
    "    with open(f\"cube_{cube_no}.cube\", \"r\") as f:\n",
    "        cube = f.read()\n",
    "\n",
    "    # initialize the view\n",
    "    view = p3d.view(width=400, height=400)\n",
    "    \n",
    "    # add stick molecule to the view\n",
    "    view.addModel(mol_xyz, \"xyz\")\n",
    "    view.setStyle({\"stick\": {}})\n",
    "\n",
    "    # add volumetric data to the view\n",
    "    # negative lobe    \n",
    "    v.addVolumetricData(cube, \"cube\", {\"isoval\": -0.02, \"color\": \"blue\", \"opacity\": 0.75})\n",
    "    # positive lobe\n",
    "    v.addVolumetricData(cube, \"cube\", {\"isoval\": 0.02, \"color\": \"red\", \"opacity\": 0.75})\n",
    "    view.zoomTo()\n",
    "    \n",
    "    return view.show()\n",
    "\n",
    "interact(draw_geometry_and_cube, mol_xyz=fixed(pyridine_xyz), cube_no=widgets.IntSlider(min=1, max=2))"
   ]
  },
  {
   "cell_type": "code",
   "execution_count": null,
   "metadata": {},
   "outputs": [],
   "source": []
  }
 ],
 "metadata": {
  "kernelspec": {
   "display_name": "Python 3",
   "language": "python",
   "name": "python3"
  },
  "language_info": {
   "codemirror_mode": {
    "name": "ipython",
    "version": 3
   },
   "file_extension": ".py",
   "mimetype": "text/x-python",
   "name": "python",
   "nbconvert_exporter": "python",
   "pygments_lexer": "ipython3",
   "version": "3.7.7"
  }
 },
 "nbformat": 4,
 "nbformat_minor": 4
}
