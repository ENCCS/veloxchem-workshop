{
 "cells": [
  {
   "cell_type": "markdown",
   "metadata": {},
   "source": [
    "<figure>\n",
    "  <IMG SRC=\"img/VeloxChem.png\" WIDTH=100 ALIGN=\"right\">\n",
    "</figure>\n",
    "    \n",
    "<figure>\n",
    "  <IMG SRC=\"img/ENCCS.jpg\" WIDTH=100 ALIGN=\"right\">\n",
    "</figure>\n",
    "    \n",
    "# First VeloxChem calculation\n",
    "\n",
    "*Roberto Di Remigio* ([@robertodr](https://github.com/robertodr))\n",
    "\n",
    "[European National Competence Centre Sweden](https://enccs.se/)\n",
    "\n",
    "<div style=\"background: #efffed;\n",
    "            border: 1px solid grey;\n",
    "            margin: 8px 0 8px 0;\n",
    "            text-align: center;\n",
    "            padding: 8px; \">\n",
    "    <i class=\"fa-play fa\" \n",
    "       style=\"font-size: 40px;\n",
    "              line-height: 40px;\n",
    "              margin: 8px;\n",
    "              color: #444;\">\n",
    "    </i>\n",
    "    <div>\n",
    "    To run the selected code cell, hit <pre style=\"background: #efffed\">Shift + Enter</pre>\n",
    "    </div>\n",
    "</div>\n",
    "\n",
    "We start by importing the necessary modules. We also define the `here` variable, which will point to the **current folder**."
   ]
  },
  {
   "cell_type": "code",
   "execution_count": 1,
   "metadata": {},
   "outputs": [
    {
     "name": "stdout",
     "output_type": "stream",
     "text": [
      "* Warning * Environment variable OMP_NUM_THREADS not set.\n",
      "* Warning * Setting OMP_NUM_THREADS to 8.\n"
     ]
    }
   ],
   "source": [
    "from pathlib import Path\n",
    "\n",
    "from mpi4py import MPI\n",
    "\n",
    "from veloxchem.mpitask import MpiTask\n",
    "\n",
    "\n",
    "here = Path().parent"
   ]
  },
  {
   "cell_type": "markdown",
   "metadata": {},
   "source": [
    "We want to run a restricted Kohn-Sham density functional theory (KS-DFT) test calculation on water. The input file is `water.inp`:\n",
    "\n",
    "```text\n",
    "@jobs\n",
    "task: scf\n",
    "@end\n",
    "\n",
    "@method settings\n",
    "basis: aug-cc-pvdz\n",
    "@end\n",
    "\n",
    "@molecule\n",
    "charge: 0\n",
    "multiplicity: 1\n",
    "units: au\n",
    "xyz:  \n",
    "O   0.0   0.0   0.0\n",
    "H   0.0   1.4   1.1\n",
    "H   0.0  -1.4   1.1\n",
    "@end \n",
    "```\n",
    "\n",
    "and we spawn a *task* using the ``MPI_COMM_WORLD`` communicator. The ``MpiTask`` object accepts a list as first argument: \n",
    "1. The first element in the list is the input file for the task.\n",
    "2. The second element in the list is the name of the output file. It can be ``None``."
   ]
  },
  {
   "cell_type": "code",
   "execution_count": 2,
   "metadata": {},
   "outputs": [
    {
     "name": "stdout",
     "output_type": "stream",
     "text": [
      "Help on class MpiTask in module veloxchem.mpitask:\n",
      "\n",
      "class MpiTask(builtins.object)\n",
      " |  MpiTask(fname_list, mpi_comm)\n",
      " |  \n",
      " |  Implements the MPI task.\n",
      " |  \n",
      " |  :param fname_list:\n",
      " |      List of the input/output filenames.\n",
      " |  :param mpi_comm:\n",
      " |      The MPI communicator.\n",
      " |  \n",
      " |  Instance variable\n",
      " |      - mpi_comm: The MPI communicator.\n",
      " |      - mpi_rank: The MPI rank.\n",
      " |      - mpi_size: Number of MPI processes.\n",
      " |      - molecule: The molecule.\n",
      " |      - ao_basis: The AO basis set.\n",
      " |      - min_basis: The minimal AO basis set for generating initial guess.\n",
      " |      - ostream: The output stream.\n",
      " |      - input_dict: The input dictionary.\n",
      " |      - start_time: The start time of the task.\n",
      " |  \n",
      " |  Methods defined here:\n",
      " |  \n",
      " |  __init__(self, fname_list, mpi_comm)\n",
      " |      Initializes the MPI task.\n",
      " |  \n",
      " |  finish(self)\n",
      " |      Finalizes the MPI task.\n",
      " |  \n",
      " |  ----------------------------------------------------------------------\n",
      " |  Data descriptors defined here:\n",
      " |  \n",
      " |  __dict__\n",
      " |      dictionary for instance variables (if defined)\n",
      " |  \n",
      " |  __weakref__\n",
      " |      list of weak references to the object (if defined)\n",
      "\n"
     ]
    }
   ],
   "source": [
    "help(MpiTask)"
   ]
  },
  {
   "cell_type": "code",
   "execution_count": 12,
   "metadata": {},
   "outputs": [],
   "source": [
    "inpfile = here / 'inputs/water.inp'\n",
    "\n",
    "task = MpiTask([str(inpfile), \"water.out\"], MPI.COMM_WORLD)"
   ]
  },
  {
   "cell_type": "markdown",
   "metadata": {},
   "source": [
    "We can now run calculations within our MPI task. We want to run a *restricted* SCF calculation, so we import the corresponding driver"
   ]
  },
  {
   "cell_type": "code",
   "execution_count": 14,
   "metadata": {},
   "outputs": [],
   "source": [
    "from veloxchem.scfrestdriver import ScfRestrictedDriver\n",
    "\n",
    "\n",
    "scf_drv = ScfRestrictedDriver(task.mpi_comm, task.ostream)\n",
    "scf_drv.compute(task.molecule, task.ao_basis, task.min_basis)"
   ]
  },
  {
   "cell_type": "markdown",
   "metadata": {},
   "source": [
    "Once the calculation is done, we can print the SCF energy from the main process in the MPI communicator:"
   ]
  },
  {
   "cell_type": "code",
   "execution_count": 15,
   "metadata": {},
   "outputs": [
    {
     "name": "stdout",
     "output_type": "stream",
     "text": [
      "SCF energy =     -76.041697549818\n"
     ]
    }
   ],
   "source": [
    "from veloxchem.veloxchemlib import mpi_master\n",
    "\n",
    " \n",
    "if task.mpi_rank == mpi_master():\n",
    "    print(f\"SCF energy = {scf_drv.get_scf_energy():20.12f}\")"
   ]
  },
  {
   "cell_type": "markdown",
   "metadata": {},
   "source": [
    "We can also open the `water.out` output file and analyze in detail the operations performed during the calculation. For example, the convergence reports during the SCF cycles:\n",
    "\n",
    "```text\n",
    "               Iter. | Hartree-Fock Energy | Energy Change | Gradient Norm | Max. Gradient | Density Change               \n",
    "               --------------------------------------------------------------------------------------------               \n",
    "                  1       -76.040225882704    0.0000000000      0.10528396      0.01411581      0.00000000                \n",
    "                  2       -76.041580841174   -0.0013549585      0.02402786      0.00365910      0.03765461                \n",
    "                  3       -76.041683047810   -0.0001022066      0.00880167      0.00122983      0.00802405                \n",
    "                  4       -76.041694341202   -0.0000112934      0.00511177      0.00094809      0.00385443                \n",
    "                  5       -76.041697479438   -0.0000031382      0.00046211      0.00008294      0.00126977                \n",
    "                  6       -76.041697547984   -0.0000000685      0.00007704      0.00001088      0.00028856                \n",
    "                  7       -76.041697549783   -0.0000000018      0.00000995      0.00000158      0.00004450                \n",
    "                  8       -76.041697549817   -0.0000000000      0.00000212      0.00000032      0.00000530                \n",
    "                  9       -76.041697549819   -0.0000000000      0.00000039      0.00000005      0.00000148                \n",
    "                                                                                                                          \n",
    "               *** SCF converged in 9 iterations. Time: 9.10 sec.                                                         \n",
    "```"
   ]
  }
 ],
 "metadata": {
  "kernelspec": {
   "display_name": "Python 3",
   "language": "python",
   "name": "python3"
  },
  "language_info": {
   "codemirror_mode": {
    "name": "ipython",
    "version": 3
   },
   "file_extension": ".py",
   "mimetype": "text/x-python",
   "name": "python",
   "nbconvert_exporter": "python",
   "pygments_lexer": "ipython3",
   "version": "3.7.8"
  }
 },
 "nbformat": 4,
 "nbformat_minor": 4
}
