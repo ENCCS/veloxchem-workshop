version https://git-lfs.github.com/spec/v1
oid sha256:aa5f504df95ddb1d6a8b63a64ba7a7aba3cb17ba9f59a0b780ad85d9148f65aa
size 41597230
