{
 "cells": [
  {
   "cell_type": "markdown",
   "metadata": {
    "tags": [
     "remove_cell"
    ]
   },
   "source": [
    "<figure>\n",
    "  <IMG SRC=\"../img/ENCCS.jpg\" WIDTH=50 ALIGN=\"right\">\n",
    "</figure>\n",
    "\n",
    "<figure>\n",
    "  <IMG SRC=\"../img/VeloxChem.png\" WIDTH=100 ALIGN=\"right\">\n",
    "</figure>"
   ]
  },
  {
   "cell_type": "markdown",
   "metadata": {},
   "source": [
    "# First VeloxChem calculation\n",
    "\n",
    "*Roberto Di Remigio* ([@robertodr](https://github.com/robertodr))\n",
    "\n",
    "[European National Competence Centre Sweden](https://enccs.se/)"
   ]
  },
  {
   "cell_type": "markdown",
   "metadata": {
    "tags": [
     "remove_cell"
    ]
   },
   "source": [
    "<div style=\"background: #efffed;\n",
    "            border: 1px solid grey;\n",
    "            margin: 8px 0 8px 0;\n",
    "            text-align: center;\n",
    "            padding: 8px; \">\n",
    "    <i class=\"fa-play fa\" \n",
    "       style=\"font-size: 40px;\n",
    "              line-height: 40px;\n",
    "              margin: 8px;\n",
    "              color: #444;\">\n",
    "    </i>\n",
    "    <div>\n",
    "    To run the selected code cell, hit <pre style=\"background: #efffed\">Shift + Enter</pre>\n",
    "    </div>\n",
    "</div>"
   ]
  },
  {
   "cell_type": "markdown",
   "metadata": {},
   "source": [
    "We start by importing the necessary modules. We also define the `here` variable, which will point to the **current folder**."
   ]
  },
  {
   "cell_type": "code",
   "execution_count": 25,
   "metadata": {},
   "outputs": [],
   "source": [
    "from pathlib import Path\n",
    "\n",
    "from veloxchem.mpitask import MpiTask\n",
    "\n",
    "\n",
    "here = Path().parent.resolve()\n",
    "inputs = here.parent / \"inputs\""
   ]
  },
  {
   "cell_type": "markdown",
   "metadata": {},
   "source": [
    "We want to run a restricted Kohn-Sham density functional theory (KS-DFT) test calculation on water. The input file is `water.inp`:\n",
    "\n",
    "```text\n",
    "@jobs\n",
    "task: scf\n",
    "@end\n",
    "\n",
    "@method settings\n",
    "basis: aug-cc-pvdz\n",
    "@end\n",
    "\n",
    "@molecule\n",
    "charge: 0\n",
    "multiplicity: 1\n",
    "units: au\n",
    "xyz:  \n",
    "O   0.0   0.0   0.0\n",
    "H   0.0   1.4   1.1\n",
    "H   0.0  -1.4   1.1\n",
    "@end \n",
    "```\n",
    "\n",
    "and we spawn a *task* using the ``MPI_COMM_WORLD`` communicator. The ``MpiTask`` object accepts a list as first argument: \n",
    "1. The first element in the list is the input file for the task.\n",
    "2. The second element in the list is the name of the output file. It can be ``None``."
   ]
  },
  {
   "cell_type": "code",
   "execution_count": null,
   "metadata": {},
   "outputs": [],
   "source": [
    "help(MpiTask)"
   ]
  },
  {
   "cell_type": "code",
   "execution_count": 26,
   "metadata": {},
   "outputs": [],
   "source": [
    "inpfile = inputs / \"water.inp\"\n",
    "\n",
    "task = MpiTask([inpfile, \"water.out\"])"
   ]
  },
  {
   "cell_type": "markdown",
   "metadata": {},
   "source": [
    "We can now run calculations within our MPI task. We want to run a *restricted* SCF calculation, so we import the corresponding driver"
   ]
  },
  {
   "cell_type": "code",
   "execution_count": 27,
   "metadata": {},
   "outputs": [
    {
     "name": "stdout",
     "output_type": "stream",
     "text": [
      "                                                                                                                          \n",
      "                                            Self Consistent Field Driver Setup                                            \n",
      "                                           ====================================                                           \n",
      "                                                                                                                          \n",
      "                   Wave Function Model             : Spin-Restricted Hartree-Fock                                         \n",
      "                   Initial Guess Model             : Superposition of Atomic Densities                                    \n",
      "                   Convergence Accelerator         : Two Level Direct Inversion of Iterative Subspace                     \n",
      "                   Max. Number of Iterations       : 50                                                                   \n",
      "                   Max. Number of Error Vectors    : 10                                                                   \n",
      "                   Convergence Threshold           : 1.0e-06                                                              \n",
      "                   ERI Screening Scheme            : Cauchy Schwarz + Density                                             \n",
      "                   ERI Screening Mode              : Dynamic                                                              \n",
      "                   ERI Screening Threshold         : 1.0e-12                                                              \n",
      "                   Linear Dependence Threshold     : 1.0e-06                                                              \n",
      "                                                                                                                          \n",
      "* Info * Nuclear repulsion energy: 9.3436381580 au                                                                        \n",
      "                                                                                                                          \n",
      "* Info * Overlap matrix computed in 0.05 sec.                                                                             \n",
      "                                                                                                                          \n",
      "* Info * Kinetic energy matrix computed in 0.04 sec.                                                                      \n",
      "                                                                                                                          \n",
      "* Info * Nuclear potential matrix computed in 0.00 sec.                                                                   \n",
      "                                                                                                                          \n",
      "* Info * Orthogonalization matrix computed in 0.00 sec.                                                                   \n",
      "                                                                                                                          \n",
      "* Info * SAD initial guess computed in 0.09 sec.                                                                          \n",
      "                                                                                                                          \n",
      "* Info * Starting Reduced Basis SCF calculation...                                                                        \n",
      "* Info * ...done. SCF energy in reduced basis set: -75.990361774917 au. Time: 0.93 sec.                                   \n",
      "                                                                                                                          \n",
      "* Info * Overlap matrix computed in 0.03 sec.                                                                             \n",
      "                                                                                                                          \n",
      "* Info * Kinetic energy matrix computed in 0.07 sec.                                                                      \n",
      "                                                                                                                          \n",
      "* Info * Nuclear potential matrix computed in 0.10 sec.                                                                   \n",
      "                                                                                                                          \n",
      "* Info * Orthogonalization matrix computed in 0.00 sec.                                                                   \n",
      "                                                                                                                          \n",
      "                                                                                                                          \n",
      "               Iter. | Hartree-Fock Energy | Energy Change | Gradient Norm | Max. Gradient | Density Change               \n",
      "               --------------------------------------------------------------------------------------------               \n",
      "                  1       -76.040225882704    0.0000000000      0.10528396      0.01411581      0.00000000                \n",
      "                  2       -76.041580841174   -0.0013549585      0.02402786      0.00365910      0.03765461                \n",
      "                  3       -76.041683047810   -0.0001022066      0.00880167      0.00122983      0.00802405                \n",
      "                  4       -76.041694341202   -0.0000112934      0.00511177      0.00094809      0.00385443                \n",
      "                  5       -76.041697479438   -0.0000031382      0.00046211      0.00008294      0.00126977                \n",
      "                  6       -76.041697547984   -0.0000000685      0.00007704      0.00001088      0.00028856                \n",
      "                  7       -76.041697549783   -0.0000000018      0.00000995      0.00000158      0.00004450                \n",
      "                  8       -76.041697549817   -0.0000000000      0.00000212      0.00000032      0.00000530                \n",
      "                  9       -76.041697549818   -0.0000000000      0.00000039      0.00000005      0.00000148                \n",
      "                                                                                                                          \n",
      "               *** SCF converged in 9 iterations. Time: 6.92 sec.                                                         \n",
      "                                                                                                                          \n",
      "               Spin-Restricted Hartree-Fock:                                                                              \n",
      "               -----------------------------                                                                              \n",
      "               Total Energy                       :      -76.0416975498 au                                                \n",
      "               Electronic Energy                  :      -85.3853357078 au                                                \n",
      "               Nuclear Repulsion Energy           :        9.3436381580 au                                                \n",
      "               ------------------------------------                                                                       \n",
      "               Gradient Norm                      :        0.0000003899 au                                                \n",
      "                                                                                                                          \n",
      "               Ground State Information                                                                                   \n",
      "               ------------------------                                                                                   \n",
      "               Charge of Molecule            :  0.0                                                                       \n",
      "               Multiplicity (2S+1)           :  1.0                                                                       \n",
      "               Magnetic Quantum Number (M_S) :  0.0                                                                       \n",
      "                                                                                                                          \n",
      "                                                                                                                          \n",
      "                                                 Spin Restricted Orbitals                                                 \n",
      "                                                 ------------------------                                                 \n",
      "                                                                                                                          \n",
      "               Molecular Orbital No.   1:                                                                                 \n",
      "               --------------------------                                                                                 \n",
      "               Occupation: 2.0 Energy:  -20.57504 au                                                                      \n",
      "               (   1 O   1s  :     1.00)                                                                                  \n",
      "                                                                                                                          \n",
      "               Molecular Orbital No.   2:                                                                                 \n",
      "               --------------------------                                                                                 \n",
      "               Occupation: 2.0 Energy:   -1.36523 au                                                                      \n",
      "               (   1 O   2s  :    -0.45) (   1 O   3s  :    -0.36) (   2 H   1s  :    -0.21)                              \n",
      "               (   3 H   1s  :    -0.21)                                                                                  \n",
      "                                                                                                                          \n",
      "               Molecular Orbital No.   3:                                                                                 \n",
      "               --------------------------                                                                                 \n",
      "               Occupation: 2.0 Energy:   -0.72596 au                                                                      \n",
      "               (   1 O   1p-1:     0.50) (   1 O   2p-1:     0.19) (   2 H   1s  :     0.35)                              \n",
      "               (   3 H   1s  :    -0.35)                                                                                  \n",
      "                                                                                                                          \n",
      "               Molecular Orbital No.   4:                                                                                 \n",
      "               --------------------------                                                                                 \n",
      "               Occupation: 2.0 Energy:   -0.59018 au                                                                      \n",
      "               (   1 O   2s  :     0.15) (   1 O   3s  :     0.33) (   1 O   1p0 :    -0.55)                              \n",
      "               (   1 O   2p0 :    -0.32) (   2 H   1s  :    -0.21) (   3 H   1s  :    -0.21)                              \n",
      "                                                                                                                          \n",
      "               Molecular Orbital No.   5:                                                                                 \n",
      "               --------------------------                                                                                 \n",
      "               Occupation: 2.0 Energy:   -0.51096 au                                                                      \n",
      "               (   1 O   1p+1:    -0.63) (   1 O   2p+1:    -0.45)                                                        \n",
      "                                                                                                                          \n",
      "               Molecular Orbital No.   6:                                                                                 \n",
      "               --------------------------                                                                                 \n",
      "               Occupation: 0.0 Energy:    0.03562 au                                                                      \n",
      "               (   1 O   3s  :     0.23) (   1 O   4s  :     1.58) (   1 O   3p0 :     0.21)                              \n",
      "               (   2 H   2s  :    -0.49) (   2 H   3s  :    -0.84) (   3 H   2s  :    -0.49)                              \n",
      "               (   3 H   3s  :    -0.84)                                                                                  \n",
      "                                                                                                                          \n",
      "               Molecular Orbital No.   7:                                                                                 \n",
      "               --------------------------                                                                                 \n",
      "               Occupation: 0.0 Energy:    0.05807 au                                                                      \n",
      "               (   1 O   3p-1:    -0.84) (   2 H   2s  :     0.57) (   2 H   3s  :     3.04)                              \n",
      "               (   3 H   2s  :    -0.57) (   3 H   3s  :    -3.04)                                                        \n",
      "                                                                                                                          \n",
      "               Molecular Orbital No.   8:                                                                                 \n",
      "               --------------------------                                                                                 \n",
      "               Occupation: 0.0 Energy:    0.17348 au                                                                      \n",
      "               (   1 O   3s  :     0.38) (   1 O   4s  :     4.12) (   1 O   1p0 :    -0.17)                              \n",
      "               (   1 O   3p0 :     1.93) (   2 H   2s  :    -1.79) (   2 H   3s  :    -0.62)                              \n",
      "               (   2 H   2p-1:     0.31) (   3 H   2s  :    -1.79) (   3 H   3s  :    -0.62)                              \n",
      "               (   3 H   2p-1:    -0.31)                                                                                  \n",
      "                                                                                                                          \n",
      "               Molecular Orbital No.   9:                                                                                 \n",
      "               --------------------------                                                                                 \n",
      "               Occupation: 0.0 Energy:    0.19602 au                                                                      \n",
      "               (   1 O   1p+1:    -0.17) (   1 O   2p+1:    -0.24) (   1 O   3p+1:     1.45)                              \n",
      "               (   2 H   2p+1:    -0.29) (   3 H   2p+1:    -0.29)                                                        \n",
      "                                                                                                                          \n",
      "               Molecular Orbital No.  10:                                                                                 \n",
      "               --------------------------                                                                                 \n",
      "               Occupation: 0.0 Energy:    0.22379 au                                                                      \n",
      "               (   1 O   2s  :     0.19) (   1 O   4s  :    -3.04) (   1 O   2p0 :    -0.18)                              \n",
      "               (   1 O   3p0 :     0.47) (   2 H   2s  :     0.56) (   2 H   3s  :     0.69)                              \n",
      "               (   2 H   2p-1:    -0.43) (   2 H   2p0 :    -0.50) (   3 H   2s  :     0.56)                              \n",
      "               (   3 H   3s  :     0.69) (   3 H   2p-1:     0.43) (   3 H   2p0 :    -0.50)                              \n",
      "                                                                                                                          \n"
     ]
    }
   ],
   "source": [
    "from veloxchem.scfrestdriver import ScfRestrictedDriver\n",
    "\n",
    "\n",
    "scf_drv = ScfRestrictedDriver()\n",
    "scf_drv.compute(task.molecule, task.ao_basis, task.min_basis)"
   ]
  },
  {
   "cell_type": "markdown",
   "metadata": {},
   "source": [
    "Once the calculation is done, we can print the SCF energy from the main process in the MPI communicator:"
   ]
  },
  {
   "cell_type": "code",
   "execution_count": 28,
   "metadata": {},
   "outputs": [
    {
     "name": "stdout",
     "output_type": "stream",
     "text": [
      "SCF energy =     -76.041697549818\n"
     ]
    }
   ],
   "source": [
    "from veloxchem.veloxchemlib import is_mpi_master\n",
    "\n",
    " \n",
    "if is_mpi_master():\n",
    "    print(f\"SCF energy = {scf_drv.get_scf_energy():20.12f}\")"
   ]
  },
  {
   "cell_type": "markdown",
   "metadata": {},
   "source": [
    "We can also open the `water.out` output file and analyze in detail the operations performed during the calculation. For example, the convergence reports during the SCF cycles:\n",
    "\n",
    "```text\n",
    "               Iter. | Hartree-Fock Energy | Energy Change | Gradient Norm | Max. Gradient | Density Change               \n",
    "               --------------------------------------------------------------------------------------------               \n",
    "                  1       -76.040225882704    0.0000000000      0.10528396      0.01411581      0.00000000                \n",
    "                  2       -76.041580841174   -0.0013549585      0.02402786      0.00365910      0.03765461                \n",
    "                  3       -76.041683047810   -0.0001022066      0.00880167      0.00122983      0.00802405                \n",
    "                  4       -76.041694341202   -0.0000112934      0.00511177      0.00094809      0.00385443                \n",
    "                  5       -76.041697479438   -0.0000031382      0.00046211      0.00008294      0.00126977                \n",
    "                  6       -76.041697547984   -0.0000000685      0.00007704      0.00001088      0.00028856                \n",
    "                  7       -76.041697549783   -0.0000000018      0.00000995      0.00000158      0.00004450                \n",
    "                  8       -76.041697549817   -0.0000000000      0.00000212      0.00000032      0.00000530                \n",
    "                  9       -76.041697549819   -0.0000000000      0.00000039      0.00000005      0.00000148                \n",
    "                                                                                                                          \n",
    "               *** SCF converged in 9 iterations. Time: 9.10 sec.                                                         \n",
    "```"
   ]
  }
 ],
 "metadata": {
  "celltoolbar": "Tags",
  "kernelspec": {
   "display_name": "Python 3",
   "language": "python",
   "name": "python3"
  },
  "language_info": {
   "codemirror_mode": {
    "name": "ipython",
    "version": 3
   },
   "file_extension": ".py",
   "mimetype": "text/x-python",
   "name": "python",
   "nbconvert_exporter": "python",
   "pygments_lexer": "ipython3",
   "version": "3.8.7"
  }
 },
 "nbformat": 4,
 "nbformat_minor": 4
}
