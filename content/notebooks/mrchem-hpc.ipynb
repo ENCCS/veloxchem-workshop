{
 "cells": [
  {
   "cell_type": "markdown",
   "id": "0c5bf1b1",
   "metadata": {},
   "source": [
    "# MRChem HPC exercise goes here"
   ]
  },
  {
   "cell_type": "code",
   "execution_count": null,
   "id": "52b9776d",
   "metadata": {},
   "outputs": [],
   "source": []
  }
 ],
 "metadata": {
  "kernelspec": {
   "display_name": "Python 3 (ipykernel)",
   "language": "python",
   "name": "python3"
  },
  "language_info": {
   "codemirror_mode": {
    "name": "ipython",
    "version": 3
   },
   "file_extension": ".py",
   "mimetype": "text/x-python",
   "name": "python",
   "nbconvert_exporter": "python",
   "pygments_lexer": "ipython3",
   "version": "3.8.11"
  }
 },
 "nbformat": 4,
 "nbformat_minor": 5
}
