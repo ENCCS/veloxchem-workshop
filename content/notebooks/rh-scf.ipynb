version https://git-lfs.github.com/spec/v1
oid sha256:d4b37ecd9d290e10664a9ec431789eec4888d154a6cf49ad1738ab9822bbf26f
size 1214
