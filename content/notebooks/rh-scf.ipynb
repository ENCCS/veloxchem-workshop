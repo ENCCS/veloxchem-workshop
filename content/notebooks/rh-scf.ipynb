version https://git-lfs.github.com/spec/v1
oid sha256:2d930f9b1400db458417bf91b6ce5e078369c9e20b65ada78f28e3189ac1db35
size 1805
