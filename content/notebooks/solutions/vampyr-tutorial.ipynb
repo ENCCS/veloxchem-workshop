{
 "cells": [
  {
   "cell_type": "markdown",
   "id": "c8752159-7c64-4101-a5f1-6626f2a87528",
   "metadata": {},
   "source": [
    "\n",
    "# Multiresolution Chemistry made easy (through Vampyr)\n"
   ]
  },
  {
   "cell_type": "markdown",
   "id": "b71d5534-05c6-4dd5-a723-767ec8fcefd5",
   "metadata": {},
   "source": [
    "\n",
    "## 1 Vampyr prologue\n",
    "\n",
    "import the packages like so"
   ]
  },
  {
   "cell_type": "code",
   "execution_count": 2,
   "id": "2f489d1a-3175-4e7c-a160-0041ff790431",
   "metadata": {},
   "outputs": [],
   "source": [
    "from vampyr import vampyr3d as vp\n",
    "import matplotlib.pyplot as plt\n",
    "import numpy as np"
   ]
  },
  {
   "cell_type": "markdown",
   "id": "7ddb54ed-1bff-4753-a32d-a8bdbb35104f",
   "metadata": {},
   "source": [
    "If you want to find out how to use a function, or what we have in the package use the function below"
   ]
  },
  {
   "cell_type": "code",
   "execution_count": 3,
   "id": "15169ce8-769b-4dc2-b821-10cf18323bc2",
   "metadata": {
    "tags": []
   },
   "outputs": [
    {
     "name": "stdout",
     "output_type": "stream",
     "text": [
      "Help on class ScalingProjector in module vampyr._vampyr.vampyr3d:\n",
      "\n",
      "class ScalingProjector(pybind11_builtins.pybind11_object)\n",
      " |  Method resolution order:\n",
      " |      ScalingProjector\n",
      " |      pybind11_builtins.pybind11_object\n",
      " |      builtins.object\n",
      " |  \n",
      " |  Methods defined here:\n",
      " |  \n",
      " |  __call__(...)\n",
      " |      __call__(*args, **kwargs)\n",
      " |      Overloaded function.\n",
      " |      \n",
      " |      1. __call__(self: vampyr._vampyr.vampyr3d.ScalingProjector, func: mrcpp::RepresentableFunction<3>) -> mrcpp::FunctionTree<3>\n",
      " |      \n",
      " |      2. __call__(self: vampyr._vampyr.vampyr3d.ScalingProjector, func: Callable[[List[float[3]]], float]) -> mrcpp::FunctionTree<3>\n",
      " |  \n",
      " |  __init__(...)\n",
      " |      __init__(*args, **kwargs)\n",
      " |      Overloaded function.\n",
      " |      \n",
      " |      1. __init__(self: vampyr._vampyr.vampyr3d.ScalingProjector, mra: mrcpp::MultiResolutionAnalysis<3>, prec: float) -> None\n",
      " |      \n",
      " |      2. __init__(self: vampyr._vampyr.vampyr3d.ScalingProjector, mra: mrcpp::MultiResolutionAnalysis<3>, scale: int) -> None\n",
      " |  \n",
      " |  ----------------------------------------------------------------------\n",
      " |  Static methods inherited from pybind11_builtins.pybind11_object:\n",
      " |  \n",
      " |  __new__(*args, **kwargs) from pybind11_builtins.pybind11_type\n",
      " |      Create and return a new object.  See help(type) for accurate signature.\n",
      "\n"
     ]
    }
   ],
   "source": [
    "help(vp.ScalingProjector)"
   ]
  },
  {
   "cell_type": "markdown",
   "id": "727a9451-6f7a-45e3-832f-a5dba0fd989a",
   "metadata": {},
   "source": [
    "In case the help was not enough, ask **us** for help. For this you need only your voice."
   ]
  },
  {
   "cell_type": "markdown",
   "id": "675915bd-563c-4317-99f5-68cb25f3345c",
   "metadata": {},
   "source": [
    "\n",
    "## 2 Math in Vampyr\n",
    "\n",
    "The following exercises are introductions in working with functions, application of operators and some equation solving. "
   ]
  },
  {
   "cell_type": "markdown",
   "id": "9c573970-55b2-41e9-8b15-a6f14f3a89ee",
   "metadata": {},
   "source": [
    "\n",
    "### 2.1 Projecting a function\n",
    "\n",
    "In this task you will create a function, project it at different precisions and basis orders, and plot it against its projection. \n",
    "This is meant to give you understanding in how one can approach completeness in multiwavelets.\n",
    "\n",
    "First we start by initializing the multiresolution analysis (mra) by using the following command"
   ]
  },
  {
   "cell_type": "code",
   "execution_count": 4,
   "id": "cab8e2e3-57c4-4705-9033-a82b558b990d",
   "metadata": {},
   "outputs": [],
   "source": [
    "mra = vp.MultiResolutionAnalysis(box=[-1,1], order=3)"
   ]
  },
  {
   "cell_type": "markdown",
   "id": "ee7ce326-7033-409b-a6e9-83fdc63c6ffd",
   "metadata": {},
   "source": [
    "Here you will change the `order` value later. This defines the polynomial order of the basis."
   ]
  },
  {
   "cell_type": "markdown",
   "id": "b2f47c52-8681-4a01-bf77-26a1c35e8d13",
   "metadata": {},
   "source": [
    "An allowed function for projection in vampyr needs to have a single coordinate argument and it has to output a float value. You will construct a gaussian function defined by \n",
    "\\begin{align}\n",
    "f(\\mathbf{r}) = \\beta \\exp(-\\alpha[r_x^2 + r_y^2 + r_z^2])\n",
    "\\end{align}\n",
    "the alpha value is a measure of how sharp the gaussian function is, and the beta is just a normalization factor, for this exercise you can set it to anything.\n",
    "Fill out the following python function for this"
   ]
  },
  {
   "cell_type": "code",
   "execution_count": 5,
   "id": "f900f803-07ab-4d5e-97a4-378def767abc",
   "metadata": {},
   "outputs": [],
   "source": [
    "def f(r):\n",
    "    alpha = 100\n",
    "    beta = ((2*alpha/np.pi))**(3/4)\n",
    "    return beta*np.exp(-alpha*((r[0])**2 + r[1]**2 + r[2]**2))\n"
   ]
  },
  {
   "cell_type": "markdown",
   "id": "08fa2366-3740-4f5a-92bf-e3f345a4583b",
   "metadata": {},
   "source": [
    "You should then be able to plot this function by running the next cell"
   ]
  },
  {
   "cell_type": "code",
   "execution_count": 6,
   "id": "49c605f6-43fd-4599-abd3-f28f51a3f9bb",
   "metadata": {
    "tags": []
   },
   "outputs": [
    {
     "data": {
      "text/plain": [
       "[<matplotlib.lines.Line2D at 0x7fb54324f7f0>]"
      ]
     },
     "execution_count": 6,
     "metadata": {},
     "output_type": "execute_result"
    },
    {
     "data": {
      "image/png": "[encoded data removed]",
      "text/plain": [
       "<Figure size 432x288 with 1 Axes>"
      ]
     },
     "metadata": {
      "needs_background": "light"
     },
     "output_type": "display_data"
    }
   ],
   "source": [
    "r_x = np.linspace(-0.99, 0.99, 1000) # create an evenly spaced set of points between -0.99 and 0.99\n",
    "r_y = np.zeros(1000)\n",
    "r_z = np.zeros(1000)\n",
    "r = [r_x, r_y, r_z]\n",
    "\n",
    "plt.plot(r_x, f(r))\n"
   ]
  },
  {
   "cell_type": "markdown",
   "id": "8dfa2466-3866-48c5-9929-ab1db8536b26",
   "metadata": {},
   "source": [
    "Now we want to project this function, the way we do that is by creating a projection operator `vp.ScalingProjector` and apply it on the function. We apply this operator by using the function as a function argument of it, `P(f)` for example.\n",
    "\n",
    "Try creating one and project the function you created earlier.\n",
    "\n",
    "hint: use the `help` function to fill out the blanks)"
   ]
  },
  {
   "cell_type": "code",
   "execution_count": 7,
   "id": "ce98d1eb-0869-4fc8-a0a7-c8ba4def3302",
   "metadata": {
    "tags": []
   },
   "outputs": [],
   "source": [
    "### write your code here\n",
    "P_eps = vp.ScalingProjector(mra, prec=1.0e-4)\n",
    "\n",
    "f_tree =  P_eps(f)  # <-- here is where you will put the projected function"
   ]
  },
  {
   "cell_type": "markdown",
   "id": "d7cfbdaf-7fe0-4f54-8aff-58fc2e675d18",
   "metadata": {},
   "source": [
    "when you are done you can run the following cell to plot your projected function. "
   ]
  },
  {
   "cell_type": "code",
   "execution_count": 8,
   "id": "1a7bd52f-6144-4ade-bd05-3fdf46089065",
   "metadata": {},
   "outputs": [
    {
     "data": {
      "text/plain": [
       "[<matplotlib.lines.Line2D at 0x7fb5431606d0>]"
      ]
     },
     "execution_count": 8,
     "metadata": {},
     "output_type": "execute_result"
    },
    {
     "data": {
      "image/png": "[encoded data removed]",
      "text/plain": [
       "<Figure size 432x288 with 1 Axes>"
      ]
     },
     "metadata": {
      "needs_background": "light"
     },
     "output_type": "display_data"
    }
   ],
   "source": [
    "f_plt = [ f_tree([x, 0.0, 0.0]) for x in r_x ]\n",
    "plt.plot(r_x, f(r), \"tab:blue\") # your function\n",
    "plt.plot(r_x, f_plt, \"tab:red\") # your projected function"
   ]
  },
  {
   "cell_type": "markdown",
   "id": "efea4679-c517-4af5-8775-6c2c1979d3ee",
   "metadata": {},
   "source": [
    "Now that you have projected the function, try changing three values, the `alpha` value of your original function, the `order` of the basis and the precision (`prec`) at which you project the function. What you should see is that the sharper the function, the higher order and precision you need to represent it properly. "
   ]
  },
  {
   "cell_type": "markdown",
   "id": "81858375-1cd8-4bd7-95de-7504de5e0ecd",
   "metadata": {},
   "source": [
    "One last thing I need to point out before we go to the next exercise is that it is convention to call our projected functions trees, as they all are `vp.FunctionTree` type."
   ]
  },
  {
   "cell_type": "markdown",
   "id": "ff5cc043-205c-4bf8-8475-18097cddacf5",
   "metadata": {},
   "source": [
    "\n",
    "### 2.2 Arithmethic\n",
    "\n",
    "Arithmethic in vampyr is mostly the same as in normal python.\n",
    "Lets work with the previous function you created.\n"
   ]
  },
  {
   "cell_type": "markdown",
   "id": "40f18354-67ec-4d33-b714-07f5356dc6dc",
   "metadata": {},
   "source": [
    "First you can normalize your projected function by calling the function `normalize()` of `f_tree`.\n",
    "Try it in the next cell"
   ]
  },
  {
   "cell_type": "code",
   "execution_count": 9,
   "id": "83f4801e-bfba-4f23-ba32-cdb8f3cd0abc",
   "metadata": {},
   "outputs": [],
   "source": [
    "f_tree.normalize()"
   ]
  },
  {
   "cell_type": "markdown",
   "id": "28b59a46-3798-42e7-bc72-a70d2c1a68a5",
   "metadata": {},
   "source": [
    "Before we go on into the rest of the exercise, it is important to note that whenever a function is shown, and it doesn't start with `vp.`, it is assumed that it must be called as a member function of the tree, that is `f_tree.normalize()`, otherwise all functions must be called by using the `vp.` prefix."
   ]
  },
  {
   "cell_type": "markdown",
   "id": "c92b13c3-ea2e-47da-b971-22cc40270f44",
   "metadata": {},
   "source": [
    "Start by multiplying it by a factor of $2$ and assigning it to a new tree `g_tree`"
   ]
  },
  {
   "cell_type": "code",
   "execution_count": 10,
   "id": "d1cbb048-b9dd-4655-82d0-c7a26cede93f",
   "metadata": {},
   "outputs": [],
   "source": [
    "g_tree = f_tree*2  # <--- assign your rescaled function to this"
   ]
  },
  {
   "cell_type": "markdown",
   "id": "44a5cc61-3258-4b82-8669-d507e4f490e0",
   "metadata": {},
   "source": [
    "You should be able to compare it against `f_tree` by runnning the following cell"
   ]
  },
  {
   "cell_type": "code",
   "execution_count": 11,
   "id": "5d5e96d2-a0ee-42f7-82ab-0c2e38a56462",
   "metadata": {},
   "outputs": [
    {
     "data": {
      "text/plain": [
       "[<matplotlib.lines.Line2D at 0x7fb53f8df520>]"
      ]
     },
     "execution_count": 11,
     "metadata": {},
     "output_type": "execute_result"
    },
    {
     "data": {
      "image/png": "[encoded data removed]",
      "text/plain": [
       "<Figure size 432x288 with 1 Axes>"
      ]
     },
     "metadata": {
      "needs_background": "light"
     },
     "output_type": "display_data"
    }
   ],
   "source": [
    "g_plt = [ g_tree([x, 0.0, 0.0]) for x in r_x ]\n",
    "plt.plot(r_x, g_plt, \"tab:red\")\n",
    "plt.plot(r_x, f_plt, \"tab:blue\")"
   ]
  },
  {
   "cell_type": "markdown",
   "id": "8bef5ce1-4cb0-463f-a882-b52e82771eb3",
   "metadata": {},
   "source": [
    "try adding `f_tree` and `g_tree` together"
   ]
  },
  {
   "cell_type": "code",
   "execution_count": 12,
   "id": "6ae37856-8dda-4024-a2a7-361d4ff393c4",
   "metadata": {},
   "outputs": [],
   "source": [
    "h_tree = f_tree + g_tree # <--- assign your added functions to this"
   ]
  },
  {
   "cell_type": "markdown",
   "id": "f1b73e1b-2716-4220-a9ed-c6e7c6c74317",
   "metadata": {},
   "source": [
    "again, you can test this by plotting it against the two other functions by running the following cell"
   ]
  },
  {
   "cell_type": "code",
   "execution_count": 13,
   "id": "071d3c7a-3b2b-4752-9255-6f028cbda63f",
   "metadata": {},
   "outputs": [
    {
     "data": {
      "text/plain": [
       "[<matplotlib.lines.Line2D at 0x7fb53f84cee0>]"
      ]
     },
     "execution_count": 13,
     "metadata": {},
     "output_type": "execute_result"
    },
    {
     "data": {
      "image/png": "[encoded data removed]",
      "text/plain": [
       "<Figure size 432x288 with 1 Axes>"
      ]
     },
     "metadata": {
      "needs_background": "light"
     },
     "output_type": "display_data"
    }
   ],
   "source": [
    "h_plt = [ h_tree([x, 0.0, 0.0]) for x in r_x ]\n",
    "\n",
    "plt.plot(r_x, h_plt, \"tab:orange\")\n",
    "plt.plot(r_x, g_plt, \"tab:red\")\n",
    "plt.plot(r_x, f_plt, \"tab:blue\")"
   ]
  },
  {
   "cell_type": "markdown",
   "id": "a13712ca-9eec-4f78-af03-3d542c0b06b8",
   "metadata": {},
   "source": [
    "You can also check that the norm of the different trees makes sense. This is done by calling the `norm()` value of your tree, try printing it below using the print function. The `f_tree` should be normalized, so its norm should be about $1.0$"
   ]
  },
  {
   "cell_type": "code",
   "execution_count": 14,
   "id": "1b7726b5-c8e5-40af-93f5-a7c3305a4602",
   "metadata": {},
   "outputs": [
    {
     "name": "stdout",
     "output_type": "stream",
     "text": [
      "3.0000000000000004\n"
     ]
    }
   ],
   "source": [
    "print(h_tree.norm())"
   ]
  },
  {
   "cell_type": "markdown",
   "id": "372ce16b-332e-4cb2-bce4-bf2853a3f459",
   "metadata": {},
   "source": [
    "Try multiplying your trees with the `*` operator, it should return a new tree which is the product of both, and you can check its norm again."
   ]
  },
  {
   "cell_type": "code",
   "execution_count": 15,
   "id": "d41dad71-f5b7-454a-9ee6-7745235e2e53",
   "metadata": {},
   "outputs": [],
   "source": [
    "i_tree = f_tree * g_tree"
   ]
  },
  {
   "cell_type": "markdown",
   "id": "732e8940-a4ff-440d-b424-bb82654962ef",
   "metadata": {},
   "source": [
    "Finally, you can take the dot product, also called inner product, between two trees by using the `vp.dot` function. You can try this in the cell below."
   ]
  },
  {
   "cell_type": "code",
   "execution_count": 16,
   "id": "83f9e7e1-92b3-4017-bc42-ab01a3e180fc",
   "metadata": {},
   "outputs": [
    {
     "data": {
      "text/plain": [
       "2.000000000000009"
      ]
     },
     "execution_count": 16,
     "metadata": {},
     "output_type": "execute_result"
    }
   ],
   "source": [
    "vp.dot(g_tree, f_tree)"
   ]
  },
  {
   "cell_type": "markdown",
   "id": "01a90b95-3898-4fb0-b218-b4714166d84c",
   "metadata": {},
   "source": [
    "\n",
    "### 2.3 Applying an operator\n"
   ]
  },
  {
   "cell_type": "markdown",
   "id": "b9111afd-e2f8-4b63-9069-c4f49e33e946",
   "metadata": {},
   "source": [
    "Up until now you have seen the `vp.ScalingProjector`, which is a projection operator. Vampyr has more operators included into it, but the way you apply them is the same as the projection operator, they only differ in their initialization. Here are two other operators implemented in vampyr, the derivative operator `D` and the Helmholtz operator `H`. "
   ]
  },
  {
   "cell_type": "code",
   "execution_count": 17,
   "id": "df75d736-4732-47b4-8e1c-9b26000c6ee2",
   "metadata": {},
   "outputs": [],
   "source": [
    "D = vp.DerivativeOperator(mra)\n",
    "H = vp.HelmholtzOperator(mra, exp=1.0, prec=1.0e-4)"
   ]
  },
  {
   "cell_type": "markdown",
   "id": "c2b1a1f6-39f3-4690-8a87-879419ebecb1",
   "metadata": {},
   "source": [
    "In this part we will work with the Derivative operator only. You will see the Helmholtz operator later. "
   ]
  },
  {
   "cell_type": "code",
   "execution_count": 18,
   "id": "5c52ef36-f992-43ad-b61a-7b47a0a9011c",
   "metadata": {},
   "outputs": [
    {
     "name": "stdout",
     "output_type": "stream",
     "text": [
      "Help on class DerivativeOperator in module vampyr._vampyr.vampyr3d:\n",
      "\n",
      "class DerivativeOperator(pybind11_builtins.pybind11_object)\n",
      " |  Method resolution order:\n",
      " |      DerivativeOperator\n",
      " |      pybind11_builtins.pybind11_object\n",
      " |      builtins.object\n",
      " |  \n",
      " |  Methods defined here:\n",
      " |  \n",
      " |  __call__(...)\n",
      " |      __call__(self: vampyr._vampyr.vampyr3d.DerivativeOperator, inp: mrcpp::FunctionTree<3>, axis: int = 0) -> mrcpp::FunctionTree<3>\n",
      " |  \n",
      " |  __init__(...)\n",
      " |      __init__(self: vampyr._vampyr.vampyr3d.DerivativeOperator, mra: mrcpp::MultiResolutionAnalysis<3>) -> None\n",
      " |  \n",
      " |  getOrder(...)\n",
      " |      getOrder(self: vampyr._vampyr.vampyr3d.DerivativeOperator) -> int\n",
      " |  \n",
      " |  ----------------------------------------------------------------------\n",
      " |  Static methods inherited from pybind11_builtins.pybind11_object:\n",
      " |  \n",
      " |  __new__(*args, **kwargs) from pybind11_builtins.pybind11_type\n",
      " |      Create and return a new object.  See help(type) for accurate signature.\n",
      "\n"
     ]
    }
   ],
   "source": [
    "help(vp.DerivativeOperator)"
   ]
  },
  {
   "cell_type": "code",
   "execution_count": null,
   "id": "b99ee689-e349-4fd8-a449-02532de546a3",
   "metadata": {},
   "outputs": [],
   "source": [
    "df = D(inp=f_tree, axis=0)"
   ]
  },
  {
   "cell_type": "markdown",
   "id": "c638d24f-900d-4c6c-b69f-c7643616a1aa",
   "metadata": {},
   "source": [
    "## 3 Quantum chemistry in Vampyr - The Hydrogen atom\n",
    "\n",
    "In order to solve the KS equations in MWs we reformulate them in an integral form [1].\n",
    "\n",
    "\\begin{align}\n",
    "    &\\phi_i = -2\\hat{G}_{\\mu_i}\\hat{V}\\phi_i \\\\\n",
    "\\end{align}\n",
    "\n",
    "Where $\\hat{V}$ is the potential acting on the system, $\\phi_i$ is the i-th KS orbital,   $\\hat{G}$ is the Helmholtz integral operator, where its kernel is defined as \n",
    "\\begin{align}\n",
    "G_\\mu(r - r') = \\frac{\\exp(-\\mu |r - r'|)}{4\\pi |r - r'|}\n",
    "\\end{align}\n",
    "and $\\mu$ is a parameter defined above through the orbital energies. The kinetic and orbital energies are included in $\\hat{G}$. "
   ]
  },
  {
   "cell_type": "markdown",
   "id": "2c8a3f14-a1ad-44cb-b389-a9a9219991d2",
   "metadata": {},
   "source": [
    "The Helmholtz operator is included in vampyr, which we saw when working with operators earlier, therefore the only things you need are the integral KS equation and the definition of $\\mu$ \n",
    "\n",
    "\\begin{equation}\n",
    "     \\mu_i = \\sqrt{-2\\epsilon_i}\n",
    "\\end{equation}\n",
    "\n",
    "The way you initialize the Helmholtz operator is as follows\n",
    "```\n",
    "H = vp.HelmholtzOperator( mra, exp=mu, prec=eps )\n",
    "```\n",
    "where `mu` is the $\\mu$ is the parameter defined above, mra you have seen before, and `eps` is the desired threshold precision. "
   ]
  },
  {
   "cell_type": "markdown",
   "id": "99991cd9-067c-40f9-92fd-d95f11a836be",
   "metadata": {},
   "source": [
    "In this exercise you will be solving the KS equation iteratively for a simple system, the Hydrogen atom. This means that you only have the nuclear potential to take into account for the potential term in the KS equation.\n",
    "\n",
    "\\begin{align}\n",
    "    V_{nuc}(\\mathbf{r}) = -\\frac{1}{|\\mathbf{r}|}\n",
    "\\end{align}\n",
    "\n",
    "We will also be working with a single orbital, of which the initial guess is\n",
    "\n",
    "\\begin{align}\n",
    "    \\phi_0(\\mathbf{r}) = e^{-|\\mathbf{r}|^2}\n",
    "\\end{align}\n",
    "where \n",
    "\\begin{align}\n",
    "    |\\mathbf{r}| = \\sqrt{x^2 + y^2 + z^2}\n",
    "\\end{align}"
   ]
  },
  {
   "cell_type": "markdown",
   "id": "46e63643-4164-49b4-8b6f-3fa0b0f57502",
   "metadata": {},
   "source": [
    "The orbital update is defined as follows\n",
    "\\begin{align}\n",
    "    \\Delta\\tilde{\\phi}^n &= -2\\hat{G}[V_{nuc}\\phi^n] - \\phi^n \\\\\n",
    "    \\Delta\\tilde{\\phi}^n &= \\tilde{\\phi}^{n+1} - \\phi^n\n",
    "\\end{align}\n",
    "where we use \\~ to denote a function that is **not** normalized, and $n$ is the iteration index.\n",
    "\n",
    "The energy update is then defined by\n",
    "\\begin{align}\n",
    "    \\Delta \\epsilon^n = \\frac{<\\Delta\\tilde{\\phi}^n|V\\phi_n>}{||\\tilde{\\phi}^{n+1}||}\n",
    "\\end{align}"
   ]
  },
  {
   "cell_type": "markdown",
   "id": "d6fd6f0c-3abc-4504-a1b5-bc869343f806",
   "metadata": {},
   "source": [
    "What you need to do in this exercise is\n",
    "1. Make a nuclear potential as a python function\n",
    "2. Make an initial guess for the orbital as a python function\n",
    "3. Project both nuclear potential and orbital through vampyr\n",
    "4. Create a Helmholtz operator with $\\mu$ as shown above, use an initial guess for $\\epsilon$\n",
    "5. Compute the orbital update through application of the Helmholtz operator\n",
    "6. Compute the energy update\n",
    "7. Repeat steps 4-6 until your orbital energies have converged\n",
    "\n",
    "The convergence criterion is the norm of $\\Delta \\phi^n$, but you should start by looping a set amount of times before trying the thershold."
   ]
  },
  {
   "cell_type": "code",
   "execution_count": 1,
   "id": "570a1e96-31f5-4591-b4d0-e920f26497b6",
   "metadata": {},
   "outputs": [
    {
     "name": "stdout",
     "output_type": "stream",
     "text": [
      "iteration: 0   Energy: -0.3538784995815104   Norm: 1.0169878647963146   Update: 0.3658744875832451\n",
      "iteration: 1   Energy: -0.45586277932224994   Norm: 1.2743893792986252   Update: 0.3761830430773537\n",
      "iteration: 2   Energy: -0.49658385257177423   Norm: 1.0741995283703158   Update: 0.08944544671888827\n",
      "iteration: 3   Energy: -0.4999674305621767   Norm: 1.0065411823526482   Update: 0.008474863789213383\n",
      "iteration: 4   Energy: -0.5000029718920682   Norm: 1.0007449220333176   Update: 0.001437345608757804\n",
      "iteration: 5   Energy: -0.5000046219839579   Norm: 1.0003471833910549   Update: 0.0006592977194034118\n"
     ]
    },
    {
     "data": {
      "image/png": "[encoded data removed]",
      "text/plain": [
       "<Figure size 432x288 with 1 Axes>"
      ]
     },
     "metadata": {
      "needs_background": "light"
     },
     "output_type": "display_data"
    }
   ],
   "source": [
    "from vampyr import vampyr3d as vp\n",
    "import numpy as np\n",
    "import matplotlib.pyplot as plt\n",
    "\n",
    "r_x = np.linspace(-0.99, 0.99, 1000) # create an evenly spaced set of points between -0.99 and 0.99\n",
    "r_y = np.zeros(1000)\n",
    "r_z = np.zeros(1000)\n",
    "r = [r_x, r_y, r_z]\n",
    "\n",
    "# Analytic nuclear potential\n",
    "def f_nuc(r):\n",
    "    R = np.sqrt(r[0]*r[0] + r[1]*r[1] + r[2]*r[2])\n",
    "    return -1.0 / R\n",
    "\n",
    "# Analytic guess for solution\n",
    "def f_phi(r):\n",
    "    R = np.sqrt(r[0]*r[0] + r[1]*r[1] + r[2]*r[2])\n",
    "    return np.exp(-R*R)\n",
    "\n",
    "\n",
    "# Global parameters\n",
    "k = 7                        # Polynomial order\n",
    "L = [-20,20]                 # Simulation box size\n",
    "epsilon = 1.0e-4             # Relative precision\n",
    "\n",
    "# Define MRA and multiwavelet projector\n",
    "MRA = vp.MultiResolutionAnalysis(order=k, box=L)\n",
    "P_eps = vp.ScalingProjector(mra=MRA, prec=epsilon)\n",
    "\n",
    "# Project analytic nuclear potential\n",
    "V_nuc = P_eps(f_nuc)\n",
    "\n",
    "# Initial guess for energy and orbital\n",
    "E_n = -0.5\n",
    "phi_n = P_eps(f_phi)\n",
    "phi_n.normalize()\n",
    "\n",
    "# Minimization loop\n",
    "thrs = 1.0e-3\n",
    "update = 1.0\n",
    "i = 0\n",
    "while (update > thrs or i > 100):\n",
    "    # Prepare Helmholtz operator\n",
    "    mu = np.sqrt(-2*E_n)\n",
    "    H = vp.HelmholtzOperator(mra=MRA, exp=mu, prec=epsilon)\n",
    "    \n",
    "    # Apply Helmholtz operator\n",
    "    Vphi = V_nuc * phi_n\n",
    "    phi_np1 = -2*H(Vphi)\n",
    "    norm = phi_np1.norm()\n",
    "    \n",
    "    # Compute orbital and energy updates\n",
    "    dPhi_n = phi_np1 - phi_n\n",
    "    dE_n = vp.dot(Vphi, dPhi_n)/phi_np1.squaredNorm()\n",
    "    update = dPhi_n.norm()\n",
    "    \n",
    "    # Prepare for next iteration\n",
    "    E_n += dE_n\n",
    "    phi_n += dPhi_n\n",
    "    phi_n.normalize()\n",
    "    phi_n.crop(epsilon)\n",
    "    \n",
    "    phi_n_plt = [phi_n([x, 0.0, 0.0]) for x in r_x]\n",
    "    plt.plot(r_x, phi_n_plt)\n",
    "    \n",
    "    print(\"iteration: {}   Energy: {}   Norm: {}   Update: {}\".format(i, E_n, norm, update))\n",
    "    i += 1\n",
    "\n",
    "plt.show()"
   ]
  },
  {
   "cell_type": "markdown",
   "id": "d2eb7f08-9e2e-4b75-8516-6591e4a928d1",
   "metadata": {},
   "source": [
    "\n",
    "## 4 Beyond today\n",
    "\n",
    "If you managed all the exercises up to now, congratulations! if not, go back and do them! \n",
    "\n",
    "These following exercises are optional, but will give you a bit more knowledge about working in multiwavelets. "
   ]
  },
  {
   "cell_type": "markdown",
   "id": "6c1ffdaa-1b56-40c0-96e4-cb8801296789",
   "metadata": {},
   "source": [
    "I don't know if I want to add more than this right now"
   ]
  },
  {
   "cell_type": "markdown",
   "id": "6339d417-cbd8-48fc-ac77-3f657043b133",
   "metadata": {},
   "source": [
    "\n",
    "## 5 Sources\n",
    "\n",
    "\n",
    "[1] Stig Rune Jensen, Santanu Saha, José A. Flores-Livas, William Huhn, Volker Blum, Stefan Goedecker, and Luca Frediani The Elephant in the Room of Density Functional Theory Calculations. The Journal of Physical Chemistry Letters 2017 8 (7), 1449-1457\n",
    "DOI: 10.1021/acs.jpclett.7b00255\n"
   ]
  },
  {
   "cell_type": "code",
   "execution_count": null,
   "id": "5f7a09a9-8d70-4898-a251-58705d5b36b9",
   "metadata": {},
   "outputs": [],
   "source": []
  }
 ],
 "metadata": {
  "kernelspec": {
   "display_name": "Python 3 (ipykernel)",
   "language": "python",
   "name": "python3"
  },
  "language_info": {
   "codemirror_mode": {
    "name": "ipython",
    "version": 3
   },
   "file_extension": ".py",
   "mimetype": "text/x-python",
   "name": "python",
   "nbconvert_exporter": "python",
   "pygments_lexer": "ipython3",
   "version": "3.9.7"
  }
 },
 "nbformat": 4,
 "nbformat_minor": 5
}
