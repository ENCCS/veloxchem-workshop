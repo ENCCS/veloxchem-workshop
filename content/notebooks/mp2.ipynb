{
 "cells": [
  {
   "cell_type": "code",
   "execution_count": 1,
   "id": "fantastic-coating",
   "metadata": {
    "tags": [
     "remove_cell"
    ]
   },
   "outputs": [],
   "source": [
    "\"\"\"Møller-Plesset perturbation theory to second order\"\"\"\n",
    "\n",
    "__author__    = \"Roberto Di Remigio\"\n",
    "__credit__    = [\"Roberto Di Remigio\", \"Xin Li\"]\n",
    "\n",
    "__copyright__ = \"(c) 2021, ENCSS and PDC\"\n",
    "__license__   = \"MIT\"\n",
    "__date__      = \"2021-04-14\""
   ]
  },
  {
   "cell_type": "markdown",
   "id": "ideal-farmer",
   "metadata": {
    "tags": [
     "remove_cell"
    ]
   },
   "source": [
    "<figure>\n",
    "  <IMG SRC=\"../img/ENCCS-PDC-logos.jpg\" WIDTH=150 ALIGN=\"right\">\n",
    "</figure>"
   ]
  },
  {
   "cell_type": "markdown",
   "id": "returning-singles",
   "metadata": {
    "tags": []
   },
   "source": [
    "# Møller-Plesset perturbation theory to second order"
   ]
  },
  {
   "cell_type": "markdown",
   "id": "middle-music",
   "metadata": {
    "tags": [
     "remove_cell"
    ]
   },
   "source": [
    "<div style=\"background: #efffed;\n",
    "            border: 1px solid grey;\n",
    "            margin: 8px 0 8px 0;\n",
    "            text-align: center;\n",
    "            padding: 8px; \">\n",
    "    <i class=\"fa-play fa\" \n",
    "       style=\"font-size: 40px;\n",
    "              line-height: 40px;\n",
    "              margin: 8px;\n",
    "              color: #444;\">\n",
    "    </i>\n",
    "    <div>\n",
    "    To run the selected code cell, hit <pre style=\"background: #efffed\">Shift + Enter</pre>\n",
    "    </div>\n",
    "</div>"
   ]
  },
  {
   "cell_type": "markdown",
   "id": "powered-vinyl",
   "metadata": {},
   "source": [
    "## Theory refresher\n",
    "\n",
    "Møller-Plesset perturbation theory to second order\n",
    "\n",
    "In terms of spin-orbitals:\n",
    "\n",
    "$$\n",
    "E_{\\mathrm{MP2}} =  \n",
    "\\frac{1}{4} \n",
    "\\sum_{ij}^{N_{\\mathrm{O}}} \\sum_{ab}^{N_{\\mathrm{V}}} \n",
    "\\frac{\\langle ij \\| ab \\rangle \\langle ab \\| ij \\rangle}{\\varepsilon_{ij}^{ab}}\n",
    "$$\n",
    "\n",
    "where the *orbital energy denominator* is: $\\varepsilon_{ij}^{ab} = \\varepsilon_{i} + \\varepsilon_{j} -\\varepsilon_{a} - \\varepsilon_{b} $.\n",
    "\n",
    "For a closed-shell, restricted reference using real MOs:\n",
    "\n",
    "$$\n",
    "E_{\\mathrm{MP2}} =\n",
    "\\sum_{ij}^{N_{\\mathrm{O}}} \\sum_{ab}^{N_{\\mathrm{V}}} \n",
    "\\frac{\\langle ij | ab \\rangle}{\\varepsilon_{ij}^{ab}}\n",
    "[ 2 \\langle ij | ab \\rangle - \\langle ij | ba \\rangle ],\n",
    "$$\n",
    "\n",
    "which we can further rearrange into to two terms, *opposite-spin* and *same-spin*:\n",
    "\n",
    "$$\n",
    "E_{\\mathrm{MP2}} = \n",
    "\\sum_{ij}^{N_{\\mathrm{O}}} \\sum_{ab}^{N_{\\mathrm{V}}} \n",
    "\\frac{\\langle ij | ab \\rangle\\langle ij | ab \\rangle}{\\varepsilon_{ij}^{ab}} + \n",
    "\\sum_{ij}^{N_{\\mathrm{O}}} \\sum_{ab}^{N_{\\mathrm{V}}} \n",
    "\\frac{\\langle ij | ab \\rangle[ \\langle ij | ab \\rangle - \\langle ij | ba \\rangle ]}{\\varepsilon_{ij}^{ab}} = \n",
    "E_{\\mathrm{MP2}}^{\\mathrm{OS}} + E_{\\mathrm{MP2}}^{\\mathrm{SS}}.\n",
    "$$"
   ]
  },
  {
   "cell_type": "markdown",
   "id": "novel-replacement",
   "metadata": {},
   "source": [
    "Our implementation will:\n",
    "\n",
    "1. Obtain the reference closed-shell determinant from a Hartree-Fock calculation.\n",
    "2. Transform the AO basis ERI tensor.\n",
    "3. Assemble the MP2 energy correction.\n",
    "\n",
    "We start with the declaration of the usual water molecule and its basis set. We also perform the SCF calculation with the `ScfRestrictedDriver`."
   ]
  },
  {
   "cell_type": "code",
   "execution_count": 2,
   "id": "declared-bermuda",
   "metadata": {
    "tags": [
     "hide_output"
    ]
   },
   "outputs": [
    {
     "name": "stdout",
     "output_type": "stream",
     "text": [
      "* Warning * Environment variable OMP_NUM_THREADS not set.\n",
      "* Warning * Setting OMP_NUM_THREADS to 12.\n",
      "                                                                                                                          \n",
      "                                            Self Consistent Field Driver Setup                                            \n",
      "                                           ====================================                                           \n",
      "                                                                                                                          \n",
      "                   Wave Function Model             : Spin-Restricted Hartree-Fock                                         \n",
      "                   Initial Guess Model             : Superposition of Atomic Densities                                    \n",
      "                   Convergence Accelerator         : Two Level Direct Inversion of Iterative Subspace                     \n",
      "                   Max. Number of Iterations       : 50                                                                   \n",
      "                   Max. Number of Error Vectors    : 10                                                                   \n",
      "                   Convergence Threshold           : 1.0e-06                                                              \n",
      "                   ERI Screening Scheme            : Cauchy Schwarz + Density                                             \n",
      "                   ERI Screening Mode              : Dynamic                                                              \n",
      "                   ERI Screening Threshold         : 1.0e-12                                                              \n",
      "                   Linear Dependence Threshold     : 1.0e-06                                                              \n",
      "                                                                                                                          \n",
      "* Info * Nuclear repulsion energy: 9.3436381580 au                                                                        \n",
      "                                                                                                                          \n",
      "* Info * Overlap matrix computed in 0.01 sec.                                                                             \n",
      "                                                                                                                          \n",
      "* Info * Kinetic energy matrix computed in 0.00 sec.                                                                      \n",
      "                                                                                                                          \n",
      "* Info * Nuclear potential matrix computed in 0.00 sec.                                                                   \n",
      "                                                                                                                          \n",
      "* Info * Orthogonalization matrix computed in 0.02 sec.                                                                   \n",
      "                                                                                                                          \n",
      "* Info * SAD initial guess computed in 0.00 sec.                                                                          \n",
      "                                                                                                                          \n",
      "* Info * Starting Reduced Basis SCF calculation...                                                                        \n",
      "* Info * ...done. SCF energy in reduced basis set: -75.983338623618 au. Time: 0.08 sec.                                   \n",
      "                                                                                                                          \n",
      "* Info * Overlap matrix computed in 0.00 sec.                                                                             \n",
      "                                                                                                                          \n",
      "* Info * Kinetic energy matrix computed in 0.00 sec.                                                                      \n",
      "                                                                                                                          \n",
      "* Info * Nuclear potential matrix computed in 0.00 sec.                                                                   \n",
      "                                                                                                                          \n",
      "* Info * Orthogonalization matrix computed in 0.00 sec.                                                                   \n",
      "                                                                                                                          \n",
      "                                                                                                                          \n",
      "               Iter. | Hartree-Fock Energy | Energy Change | Gradient Norm | Max. Gradient | Density Change               \n",
      "               --------------------------------------------------------------------------------------------               \n",
      "                  1       -75.983338647168    0.0000000000      0.00025891      0.00005819      0.00000000                \n",
      "                  2       -75.983338654251   -0.0000000071      0.00006338      0.00001527      0.00006094                \n",
      "                  3       -75.983338655525   -0.0000000013      0.00000770      0.00000104      0.00005131                \n",
      "                  4       -75.983338655539   -0.0000000000      0.00000056      0.00000014      0.00000520                \n",
      "                                                                                                                          \n",
      "               *** SCF converged in 4 iterations. Time: 0.04 sec.                                                         \n",
      "                                                                                                                          \n",
      "               Spin-Restricted Hartree-Fock:                                                                              \n",
      "               -----------------------------                                                                              \n",
      "               Total Energy                       :      -75.9833386555 au                                                \n",
      "               Electronic Energy                  :      -85.3269768135 au                                                \n",
      "               Nuclear Repulsion Energy           :        9.3436381580 au                                                \n",
      "               ------------------------------------                                                                       \n",
      "               Gradient Norm                      :        0.0000005580 au                                                \n",
      "                                                                                                                          \n",
      "                                                                                                                          \n",
      "               Ground State Information                                                                                   \n",
      "               ------------------------                                                                                   \n",
      "               Charge of Molecule            :  0.0                                                                       \n",
      "               Multiplicity (2S+1)           :  1.0                                                                       \n",
      "               Magnetic Quantum Number (M_S) :  0.0                                                                       \n",
      "                                                                                                                          \n",
      "                                                                                                                          \n",
      "                                                 Spin Restricted Orbitals                                                 \n",
      "                                                 ------------------------                                                 \n",
      "                                                                                                                          \n",
      "               Molecular Orbital No.   1:                                                                                 \n",
      "               --------------------------                                                                                 \n",
      "               Occupation: 2.0 Energy:  -20.55797 au                                                                      \n",
      "               (   1 O   1s  :    -1.00)                                                                                  \n",
      "                                                                                                                          \n",
      "               Molecular Orbital No.   2:                                                                                 \n",
      "               --------------------------                                                                                 \n",
      "               Occupation: 2.0 Energy:   -1.36562 au                                                                      \n",
      "               (   1 O   1s  :     0.21) (   1 O   2s  :    -0.47) (   1 O   3s  :    -0.47)                              \n",
      "                                                                                                                          \n",
      "               Molecular Orbital No.   3:                                                                                 \n",
      "               --------------------------                                                                                 \n",
      "               Occupation: 2.0 Energy:   -0.71725 au                                                                      \n",
      "               (   1 O   1p-1:    -0.51) (   1 O   2p-1:    -0.27) (   2 H   1s  :    -0.27)                              \n",
      "               (   3 H   1s  :     0.27)                                                                                  \n",
      "                                                                                                                          \n",
      "               Molecular Orbital No.   4:                                                                                 \n",
      "               --------------------------                                                                                 \n",
      "               Occupation: 2.0 Energy:   -0.56447 au                                                                      \n",
      "               (   1 O   2s  :     0.18) (   1 O   3s  :     0.31) (   1 O   1p0 :    -0.55)                              \n",
      "               (   1 O   2p0 :    -0.40)                                                                                  \n",
      "                                                                                                                          \n",
      "               Molecular Orbital No.   5:                                                                                 \n",
      "               --------------------------                                                                                 \n",
      "               Occupation: 2.0 Energy:   -0.50264 au                                                                      \n",
      "               (   1 O   1p+1:    -0.64) (   1 O   2p+1:    -0.51)                                                        \n",
      "                                                                                                                          \n",
      "               Molecular Orbital No.   6:                                                                                 \n",
      "               --------------------------                                                                                 \n",
      "               Occupation: 0.0 Energy:    0.20696 au                                                                      \n",
      "               (   1 O   3s  :     1.21) (   1 O   1p0 :     0.23) (   1 O   2p0 :     0.47)                              \n",
      "               (   2 H   2s  :    -1.00) (   3 H   2s  :    -1.00)                                                        \n",
      "                                                                                                                          \n",
      "               Molecular Orbital No.   7:                                                                                 \n",
      "               --------------------------                                                                                 \n",
      "               Occupation: 0.0 Energy:    0.30383 au                                                                      \n",
      "               (   1 O   1p-1:    -0.33) (   1 O   2p-1:    -0.83) (   2 H   2s  :     1.42)                              \n",
      "               (   3 H   2s  :    -1.42)                                                                                  \n",
      "                                                                                                                          \n",
      "               Molecular Orbital No.   8:                                                                                 \n",
      "               --------------------------                                                                                 \n",
      "               Occupation: 0.0 Energy:    1.05847 au                                                                      \n",
      "               (   1 O   2p-1:    -0.83) (   2 H   1s  :     0.97) (   2 H   2s  :    -0.43)                              \n",
      "               (   3 H   1s  :    -0.97) (   3 H   2s  :     0.43)                                                        \n",
      "                                                                                                                          \n",
      "               Molecular Orbital No.   9:                                                                                 \n",
      "               --------------------------                                                                                 \n",
      "               Occupation: 0.0 Energy:    1.16412 au                                                                      \n",
      "               (   1 O   1p+1:     0.96) (   1 O   2p+1:    -1.04)                                                        \n",
      "                                                                                                                          \n",
      "               Molecular Orbital No.  10:                                                                                 \n",
      "               --------------------------                                                                                 \n",
      "               Occupation: 0.0 Energy:    1.20359 au                                                                      \n",
      "               (   1 O   1p0 :    -0.98) (   1 O   2p0 :     0.92) (   2 H   1s  :     0.32)                              \n",
      "               (   2 H   2s  :    -0.38) (   3 H   1s  :     0.32) (   3 H   2s  :    -0.38)                              \n",
      "                                                                                                                          \n"
     ]
    }
   ],
   "source": [
    "import veloxchem as vlx\n",
    "\n",
    "h2o_xyz = \"\"\"3\n",
    "water                                                                                                                          \n",
    "O    0.000000000000        0.000000000000        0.000000000000                         \n",
    "H    0.000000000000        0.740848095288        0.582094932012                         \n",
    "H    0.000000000000       -0.740848095288        0.582094932012\n",
    "\"\"\"\n",
    "\n",
    "mol = vlx.Molecule.from_xyz(h2o_xyz)\n",
    "\n",
    "basis = vlx.MolecularBasis.read(mol, \"6-31g\")\n",
    "\n",
    "scfdrv = vlx.ScfRestrictedDriver()\n",
    "scfdrv.compute(mol, basis)"
   ]
  },
  {
   "cell_type": "markdown",
   "id": "cosmetic-catch",
   "metadata": {},
   "source": [
    "We can now access orbital energies and MO coefficients from the driver:"
   ]
  },
  {
   "cell_type": "code",
   "execution_count": 3,
   "id": "bottom-simpson",
   "metadata": {},
   "outputs": [],
   "source": [
    "epsilon = scfdrv.scf_tensors[\"E\"]\n",
    "C = scfdrv.scf_tensors[\"C\"]"
   ]
  },
  {
   "cell_type": "markdown",
   "id": "portable-projection",
   "metadata": {},
   "source": [
    "## The Integral transformation\n",
    "\n",
    "We compute the MP2 energy correction with the ERI expressed in MO basis: we need to transform the ERI tensor from AO basis.\n",
    "The transformation reads:\n",
    "\n",
    "$$\n",
    "\\langle pq | rs \\rangle = \\sum_{\\mu\\nu\\kappa\\lambda} C_{\\mu p}C_{\\nu r} (\\mu\\nu|\\kappa\\lambda) C_{\\kappa q} C_{\\lambda s},\n",
    "$$\n",
    "\n",
    "with the MO integrals in [**physicists' notation**](http://vergil.chemistry.gatech.edu/notes/permsymm/permsymm.html). The transformation requires $O(N^{8})$ operation count. \n",
    "However, we can perform it more efficiently as a stepwise contraction:\n",
    "\n",
    "$$\n",
    "\\langle pq | rs \\rangle = \\sum_{\\mu} C_{\\mu p}  \\left(\\sum_{\\nu} C_{\\nu r}  \\left (\\sum_{\\kappa} \\left(\\sum_{\\lambda} (\\mu\\nu|\\kappa\\lambda) C_{\\lambda s} \\right) C_{\\kappa q} \\right)\\right).\n",
    "$$\n",
    "\n",
    "We should also note that we do **not** need the full ERI tensor in MO basis, but rather the *OOVV* class of integrals, which involve two occupied and two virtual MO indices:\n",
    "\n",
    "$$\n",
    "\\langle ij | ab \\rangle = \n",
    "\\sum_{\\mu} C_{\\mu i}  \n",
    "\\left(\\sum_{\\nu} C_{\\nu j}  \n",
    "\\left(\\sum_{\\kappa} \n",
    "\\left(\\sum_{\\lambda} (\\mu\\kappa|\\nu\\lambda) C_{\\lambda b} \\right)\n",
    "C_{\\kappa a}\\right)\\right).\n",
    "$$"
   ]
  },
  {
   "cell_type": "code",
   "execution_count": 4,
   "id": "signal-plate",
   "metadata": {},
   "outputs": [],
   "source": [
    "eridrv = vlx.ElectronRepulsionIntegralsDriver()\n",
    "mknl = eridrv.compute_in_mem(mol, basis)"
   ]
  },
  {
   "cell_type": "code",
   "execution_count": 5,
   "id": "removable-encounter",
   "metadata": {},
   "outputs": [
    {
     "name": "stdout",
     "output_type": "stream",
     "text": [
      "mknb.shape=(13, 13, 13, 8)\n",
      "mnab.shape=(13, 13, 8, 8)\n",
      "mjab.shape=(13, 5, 8, 8)\n",
      "ijab.shape=(5, 5, 8, 8)\n"
     ]
    }
   ],
   "source": [
    "import numpy as np\n",
    "\n",
    "N_O = mol.number_of_electrons() // 2\n",
    "N_V = scfdrv.mol_orbs.number_mos() - N_O\n",
    "\n",
    "mknb = np.einsum(\"mknl,lB->mknB\", mknl, C[:, N_O:])\n",
    "print(f\"{mknb.shape=}\")\n",
    "mnab = np.einsum(\"mknB,kA->mnAB\", mknb, C[:, N_O:])\n",
    "print(f\"{mnab.shape=}\")\n",
    "mjab = np.einsum(\"mnAB,nJ->mJAB\", mnab, C[:, :N_O])\n",
    "print(f\"{mjab.shape=}\")\n",
    "ijab = np.einsum(\"mJAB,mI->IJAB\", mjab, C[:, :N_O])\n",
    "print(f\"{ijab.shape=}\")"
   ]
  },
  {
   "cell_type": "markdown",
   "id": "metric-hygiene",
   "metadata": {},
   "source": [
    "Let's compare our *OOVV* ERI tensor with the one computed by using VeloxChem's own `MOIntegralsDriver`:"
   ]
  },
  {
   "cell_type": "code",
   "execution_count": 6,
   "id": "dynamic-american",
   "metadata": {
    "tags": []
   },
   "outputs": [],
   "source": [
    "moeridrv = vlx.MOIntegralsDriver()\n",
    "moeri = moeridrv.compute_in_mem(mol, basis, mol_orbs=scfdrv.mol_orbs, mints_type=\"OOVV\")\n",
    "\n",
    "np.testing.assert_allclose(ijab, moeri, atol=1.e-10)"
   ]
  },
  {
   "cell_type": "code",
   "execution_count": 7,
   "id": "paperback-riding",
   "metadata": {},
   "outputs": [],
   "source": [
    "e_mp2_ss = 0.0\n",
    "e_mp2_os = 0.0\n",
    "\n",
    "# extract the occupied subset of the orbital energies\n",
    "e_ij = epsilon[:N_O]\n",
    "# extract the virtual subset of the orbital energies\n",
    "e_ab = epsilon[N_O:]\n",
    "\n",
    "for i in range(N_O):\n",
    "    for j in range(N_O):\n",
    "        for a in range(N_V):\n",
    "            for b in range(N_V):\n",
    "                # enegy denominators\n",
    "                e_ijab =  e_ij[i] + e_ij[j] - e_ab[a] - e_ab[b]\n",
    "                \n",
    "                # opposite spin\n",
    "                e_mp2_os += (ijab[i, j, a, b] * ijab[i, j, a, b]) / e_ijab\n",
    "                \n",
    "                # same spin\n",
    "                e_mp2_ss += ijab[i, j, a, b] * (ijab[i, j, a, b]  - ijab[i, j, b, a]) / e_ijab "
   ]
  },
  {
   "cell_type": "code",
   "execution_count": 8,
   "id": "confident-scottish",
   "metadata": {},
   "outputs": [
    {
     "name": "stdout",
     "output_type": "stream",
     "text": [
      "Opposite-spin MP2 energy:      -0.097649768335\n",
      "Same-spin MP2 energy:          -0.029820898249\n",
      "MP2 energy:                    -0.127470666584\n"
     ]
    }
   ],
   "source": [
    "print(f\"Opposite-spin MP2 energy: {e_mp2_os:20.12f}\")\n",
    "print(f\"Same-spin MP2 energy:     {e_mp2_ss:20.12f}\")\n",
    "print(f\"MP2 energy:               {e_mp2_os + e_mp2_ss:20.12f}\")"
   ]
  },
  {
   "cell_type": "markdown",
   "id": "headed-avenue",
   "metadata": {},
   "source": [
    "VeloxChem has its own implementation of the MP2 energy correction. We can check our result against it."
   ]
  },
  {
   "cell_type": "code",
   "execution_count": 9,
   "id": "aging-cooling",
   "metadata": {},
   "outputs": [],
   "source": [
    "mp2drv = vlx.Mp2Driver()\n",
    "mp2drv.compute_conventional(mol, basis, scfdrv.mol_orbs)\n",
    "\n",
    "np.testing.assert_allclose(e_mp2_os + e_mp2_ss, mp2drv.e_mp2, atol=1e-9)"
   ]
  },
  {
   "cell_type": "markdown",
   "id": "ecological-apparatus",
   "metadata": {},
   "source": [
    "## Bonus: using `np.einsum`\n",
    "\n",
    "We can compute the MP2 energy terms using `np.einsum`. First, we need to define the energy denominators as a 4-index tensor with `np.reshape`."
   ]
  },
  {
   "cell_type": "code",
   "execution_count": 10,
   "id": "right-seventh",
   "metadata": {},
   "outputs": [],
   "source": [
    "e_ijab = 1 / (e_ij.reshape(N_O, 1, 1, 1) - e_ab.reshape(1, 1, N_V, 1) + e_ij.reshape(1, N_O, 1, 1) - e_ab.reshape(1, 1, 1, N_V))"
   ]
  },
  {
   "cell_type": "markdown",
   "id": "overall-kuwait",
   "metadata": {},
   "source": [
    "The same-spin and opposite-spin are the contraction of the ERI and denominators tensors. The results are unchanged with respect to the quadruple-loop approach:"
   ]
  },
  {
   "cell_type": "code",
   "execution_count": 11,
   "id": "crazy-decade",
   "metadata": {},
   "outputs": [],
   "source": [
    "mp2_os = np.einsum(\"ijab,ijab,ijab->\", ijab, ijab, e_ijab)\n",
    "mp2_ss = np.einsum(\"ijab,ijab,ijab->\", ijab, ijab - ijab.swapaxes(2, 3), e_ijab)"
   ]
  },
  {
   "cell_type": "code",
   "execution_count": 12,
   "id": "organic-cement",
   "metadata": {},
   "outputs": [
    {
     "name": "stdout",
     "output_type": "stream",
     "text": [
      "Opposite-spin MP2 energy:      -0.097649768335\n",
      "Same-spin MP2 energy:          -0.029820898249\n",
      "MP2 energy:                    -0.127470666584\n"
     ]
    }
   ],
   "source": [
    "print(f\"Opposite-spin MP2 energy: {mp2_os:20.12f}\")\n",
    "print(f\"Same-spin MP2 energy:     {mp2_ss:20.12f}\")\n",
    "print(f\"MP2 energy:               {mp2_os + mp2_ss:20.12f}\")"
   ]
  }
 ],
 "metadata": {
  "kernelspec": {
   "display_name": "Python 3",
   "language": "python",
   "name": "python3"
  },
  "language_info": {
   "codemirror_mode": {
    "name": "ipython",
    "version": 3
   },
   "file_extension": ".py",
   "mimetype": "text/x-python",
   "name": "python",
   "nbconvert_exporter": "python",
   "pygments_lexer": "ipython3",
   "version": "3.8.8"
  }
 },
 "nbformat": 4,
 "nbformat_minor": 5
}
