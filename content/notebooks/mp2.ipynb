{
 "cells": [
  {
   "cell_type": "code",
   "execution_count": 1,
   "id": "friendly-czech",
   "metadata": {
    "tags": [
     "remove_cell"
    ]
   },
   "outputs": [],
   "source": [
    "\"\"\"Møller-Plesset perturbation theory to second order\"\"\"\n",
    "\n",
    "__author__    = \"Roberto Di Remigio\"\n",
    "__credit__    = [\"Roberto Di Remigio\", \"Xin Li\"]\n",
    "\n",
    "__copyright__ = \"(c) 2021, ENCSS and PDC\"\n",
    "__license__   = \"MIT\"\n",
    "__date__      = \"2021-04-13\""
   ]
  },
  {
   "cell_type": "markdown",
   "id": "established-visiting",
   "metadata": {
    "tags": [
     "remove_cell"
    ]
   },
   "source": [
    "<figure>\n",
    "  <IMG SRC=\"../img/ENCCS-PDC-logos.jpg\" WIDTH=150 ALIGN=\"right\">\n",
    "</figure>"
   ]
  },
  {
   "cell_type": "markdown",
   "id": "recreational-winter",
   "metadata": {
    "tags": []
   },
   "source": [
    "# Møller-Plesset perturbation theory to second order"
   ]
  },
  {
   "cell_type": "markdown",
   "id": "adolescent-worse",
   "metadata": {
    "tags": [
     "remove_cell"
    ]
   },
   "source": [
    "<div style=\"background: #efffed;\n",
    "            border: 1px solid grey;\n",
    "            margin: 8px 0 8px 0;\n",
    "            text-align: center;\n",
    "            padding: 8px; \">\n",
    "    <i class=\"fa-play fa\" \n",
    "       style=\"font-size: 40px;\n",
    "              line-height: 40px;\n",
    "              margin: 8px;\n",
    "              color: #444;\">\n",
    "    </i>\n",
    "    <div>\n",
    "    To run the selected code cell, hit <pre style=\"background: #efffed\">Shift + Enter</pre>\n",
    "    </div>\n",
    "</div>"
   ]
  },
  {
   "cell_type": "markdown",
   "id": "bronze-yahoo",
   "metadata": {},
   "source": [
    "In Hartree-Fock (HF) theory, we approximate the molecular electronic wavefunction as a single Slater determinant:\n",
    "\\begin{equation}\n",
    "  | 0 \\rangle = ...\n",
    "\\end{equation}\n",
    "where $\\phi_{p}$ are the *molecular orbitals* (MOs). The HF energy is:\n",
    "\\begin{equation}\n",
    "E_{\\mathrm{HF}} = \n",
    "\\sum_{i=1}^{N}\\langle \\phi_{i} | -\\frac{1}{2}\\nabla^{2} + V_{\\mathrm{Ne}} | \\phi_{i} \\rangle + \n",
    "\\frac{1}{2} \\sum_{ij} (\\langle \\phi_{i}\\phi_{j}| \\phi_{i}\\phi_{j} \\rangle - \\langle \\phi_{i}\\phi_{j}| \\phi_{j}\\phi_{i} \\rangle).\n",
    "\\end{equation}\n",
    "\n",
    "### TODO\n",
    "- AO basis expansion and energy functional\n",
    "- Variational optimization and Fock equations\n",
    "- High-level description of the algorithm"
   ]
  },
  {
   "cell_type": "code",
   "execution_count": 3,
   "id": "approved-mounting",
   "metadata": {},
   "outputs": [
    {
     "name": "stdout",
     "output_type": "stream",
     "text": [
      "* Warning * Environment variable OMP_NUM_THREADS not set.\n",
      "* Warning * Setting OMP_NUM_THREADS to 12.\n",
      "Molecular Geometry (Angstroms)\n",
      "================================\n",
      "\n",
      "  Atom         Coordinate X          Coordinate Y          Coordinate Z  \n",
      "\n",
      "  O           0.000000000000        0.000000000000        0.000000000000\n",
      "  H           0.000000000000        0.740848095288        0.582094932012\n",
      "  H           0.000000000000       -0.740848095288        0.582094932012\n",
      "\n",
      "Molecular Basis (Atomic Basis)\n",
      "================================\n",
      "\n",
      "Basis: STO-3G                                         \n",
      "\n",
      "  Atom Contracted GTOs          Primitive GTOs           \n",
      "\n",
      "  H   (1S)                     (3S)                     \n",
      "  O   (2S,1P)                  (6S,3P)                  \n",
      "\n",
      "Contracted Basis Functions : 7                        \n",
      "Primitive Basis Functions  : 21                       \n",
      "\n"
     ]
    }
   ],
   "source": [
    "import veloxchem as vlx\n",
    "import numpy as np\n",
    "\n",
    "h2o_xyz = \"\"\"3\n",
    "water                                                                                                                          \n",
    "O    0.000000000000        0.000000000000        0.000000000000                         \n",
    "H    0.000000000000        0.740848095288        0.582094932012                         \n",
    "H    0.000000000000       -0.740848095288        0.582094932012\n",
    "\"\"\"\n",
    "\n",
    "mol = vlx.Molecule.from_xyz(h2o_xyz)\n",
    "print(mol.get_string())\n",
    "\n",
    "basis = vlx.MolecularBasis.read(mol, \"sto-3g\")\n",
    "print(basis.get_string(mol))"
   ]
  },
  {
   "cell_type": "code",
   "execution_count": 4,
   "id": "expensive-canon",
   "metadata": {},
   "outputs": [],
   "source": [
    "ovldrv = vlx.OverlapIntegralsDriver()\n",
    "ovl = ovldrv.compute(mol, basis)\n",
    "S = ovl.to_numpy()"
   ]
  },
  {
   "cell_type": "code",
   "execution_count": 5,
   "id": "collectible-analysis",
   "metadata": {},
   "outputs": [],
   "source": [
    "kindrv = vlx.KineticEnergyIntegralsDriver()\n",
    "kin = kindrv.compute(mol, basis)\n",
    "T = kin.to_numpy()"
   ]
  },
  {
   "cell_type": "code",
   "execution_count": 6,
   "id": "headed-implementation",
   "metadata": {},
   "outputs": [],
   "source": [
    "naidrv = vlx.NuclearPotentialIntegralsDriver()\n",
    "nai = naidrv.compute(mol, basis)\n",
    "V = -nai.to_numpy()"
   ]
  },
  {
   "cell_type": "code",
   "execution_count": 7,
   "id": "absent-adaptation",
   "metadata": {},
   "outputs": [],
   "source": [
    "eridrv = vlx.ElectronRepulsionIntegralsDriver()\n",
    "eri = eridrv.compute_in_mem(mol, basis)"
   ]
  },
  {
   "cell_type": "markdown",
   "id": "daily-carry",
   "metadata": {},
   "source": [
    "### Matrix and tensor manipulations with NumPy\n",
    "\n",
    "TODO\n",
    "1. `np.einsum`\n",
    "2. `np.linalg.eigh` and `np.linalg.norm`"
   ]
  },
  {
   "cell_type": "markdown",
   "id": "common-affiliate",
   "metadata": {},
   "source": [
    "## Orthogonalization of the AO basis\n",
    "\n",
    "Find $\\mathbf{X}$ such that:\n",
    "\\begin{equation}\n",
    "\\mathbf{X}^{t} \\mathbf{S} \\mathbf{X} = \\mathbf{1}\n",
    "\\end{equation}\n",
    "\n",
    "In the absence of linear dependencies in the AO basis, the overlap matrix is symmetric (and positive-definite) It is thus diagonalizable in a basis of its eigenvectors:\n",
    "\\begin{equation}\n",
    "\\mathbf{S} = \\mathbf{U}\\mathbf{\\sigma}\\mathbf{U}^{t}\n",
    "\\end{equation}\n",
    "with $\\mathbf{\\sigma} = \\mathrm{diag}(\\sigma_{0}, \\cdots, \\sigma_{n})$ the diagonal matrix of eigenvalues and $\\mathbf{U}$ its eigenvectors. Any function of the overlap matrix can be defined in terms of its eigenvalues and eigenvectors. This gives us two choices for the orthogonalization:\n",
    "\n",
    "- **Symmetric (Löwdin)**, with $\\mathbf{X} = \\mathbf{U}\\mathbf{\\sigma}^{-\\frac{1}{2}}\\mathbf{U}^{t}$.\n",
    "- **Canonical**, with $\\mathbf{X} = \\mathbf{U}\\mathbf{\\sigma}^{-\\frac{1}{2}}$.\n",
    "\n",
    "In both cases, we achieve a factorization of the overlap matrix as $\\mathbf{S} = \\left(\\mathbf{X}^{t}\\mathbf{X}\\right)^{-1}$."
   ]
  },
  {
   "cell_type": "code",
   "execution_count": 8,
   "id": "unauthorized-hundred",
   "metadata": {},
   "outputs": [],
   "source": [
    "#help(np.linalg.eigh)\n",
    "sigma, U = np.linalg.eigh(S)\n",
    "\n",
    "X = np.einsum(\"Pk,k,Qk->PQ\", U, 1.0/np.sqrt(sigma), U, optimize=True)\n",
    "\n",
    "# check that the orthogonalizer is correct\n",
    "test_S = np.linalg.inv(np.einsum(\"Pk,Qk->PQ\", X, X, optimize=True))\n",
    "np.testing.assert_allclose(test_S, S, atol=1e-10)"
   ]
  },
  {
   "cell_type": "code",
   "execution_count": 9,
   "id": "unusual-female",
   "metadata": {},
   "outputs": [],
   "source": [
    "def AO_to_OAO(matrix, transformer):\n",
    "    return np.einsum(\"Pk,kl,Ql->PQ\", transformer, matrix, transformer, optimize=True)"
   ]
  },
  {
   "cell_type": "markdown",
   "id": "loved-agent",
   "metadata": {},
   "source": [
    "## Initial guess\n",
    "\n",
    "We use the very simple core guess: the initial MO coefficients are the eigenvectors of the core Hamiltonian: $h = T + V$. The algoritm goes as follows:\n",
    "1. Transform the core Hamiltonian $h$ to OAO basis.\n",
    "2. Diagonalize it.\n",
    "3. Backtransform the coefficients to AO basis.\n",
    "4. Form the density matrix using $D_{\\mu\\nu} = \\sum_{i=1}^{N_{\\mathrm{O}}} C_{\\mu i} C_{\\nu i}$, where $N_{\\mathrm{O}}$ is the number of occupied orbitals."
   ]
  },
  {
   "cell_type": "code",
   "execution_count": 58,
   "id": "sufficient-remove",
   "metadata": {},
   "outputs": [],
   "source": [
    "N_O = mol.number_of_electrons() // 2\n",
    "\n",
    "h = T + V\n",
    "# transform to orthogonal AO basis\n",
    "h_OAO = AO_to_OAO(h, X)\n",
    "# diagonalize\n",
    "_, C_OAO = np.linalg.eigh(h_OAO)\n",
    "# backtransform coefficients\n",
    "C = np.einsum(\"kP,kQ->PQ\", X, C_OAO)\n",
    "# form  density matrix from occupied slice of coefficients\n",
    "D = np.einsum(\"Pi,Qi->PQ\", C[:, :N_O], C[:, :N_O], optimize=True)"
   ]
  },
  {
   "cell_type": "markdown",
   "id": "interpreted-ordinary",
   "metadata": {},
   "source": [
    "We can check that the density matrix so produced is idempotent:\n",
    "\\begin{equation}\n",
    "\\mathbf{D}\\mathbf{S}\\mathbf{D} = \\mathbf{D}\n",
    "\\end{equation}\n",
    "and normalized to the number of electrons:\n",
    "\\begin{equation}\n",
    "N = 2\\,\\mathrm{tr} \\, \\mathbf{D}\\mathbf{S} = 2 \\sum_{\\mu\\nu}D_{\\mu\\nu}S_{\\nu\\mu}\n",
    "\\end{equation}\n",
    "\n",
    "These checks will ensure that our implementation produces sane density matrices!"
   ]
  },
  {
   "cell_type": "code",
   "execution_count": 66,
   "id": "varying-prophet",
   "metadata": {},
   "outputs": [],
   "source": [
    "# check that the density matrix is normalized to the number of electrons\n",
    "np.testing.assert_allclose(2.*np.einsum(\"ij,ji->\", D, S), mol.number_of_electrons(), atol=1e-10)\n",
    "# check that the density matrix is idempotent\n",
    "np.testing.assert_allclose(np.einsum(\"Pk,kl,lQ->PQ\", D, S, D), D, atol=1e-10)"
   ]
  },
  {
   "cell_type": "markdown",
   "id": "geographic-arthur",
   "metadata": {},
   "source": [
    "The initial energy is:\n",
    "\\begin{equation}\n",
    "E^{[0]} = E_{\\mathrm{NN}} + \\mathrm{tr}\\,\\mathbf{h}\\mathbf{D}^{[0]}\n",
    "\\end{equation}"
   ]
  },
  {
   "cell_type": "code",
   "execution_count": 74,
   "id": "excessive-peter",
   "metadata": {},
   "outputs": [
    {
     "name": "stdout",
     "output_type": "stream",
     "text": [
      "Initial SCF energy:     -51.967424602882\n"
     ]
    }
   ],
   "source": [
    "E_NN = mol.nuclear_repulsion_energy()\n",
    "E = np.einsum(\"pq,qp->\", h, D, optimize=True) + E_NN\n",
    "print(f\"Initial SCF energy: {E:20.12f}\")"
   ]
  },
  {
   "cell_type": "markdown",
   "id": "increasing-roulette",
   "metadata": {},
   "source": [
    "## The iterative procedure\n",
    "\n",
    "With a guess density at hand, we can start the Roothaan-Hall self-consistent iterations. We will run until a convergence criterion is met, `conv_thresh`, or until we exceed the maximum number of iterations, `max_iter`.\n",
    "We choose the *norm of the difference between two successive density matrices*, $\\| \\mathbf{D}^{[n+1]} - \\mathbf{D}^{[n]} \\|$,  as convergence criterion."
   ]
  },
  {
   "cell_type": "code",
   "execution_count": 72,
   "id": "changed-burlington",
   "metadata": {},
   "outputs": [],
   "source": [
    "max_iter = 50\n",
    "conv_thresh = 1e-6"
   ]
  },
  {
   "cell_type": "markdown",
   "id": "incomplete-private",
   "metadata": {},
   "source": [
    "At each iteration, we form the *Coulomb*, $J$, and *exchange*, $K$, matrices from a contraction of the density matrix and the pre-computed ERI tensor:\n",
    "\\begin{equation}\n",
    "  J^{[n]}_{\\mu\\nu} = \\sum_{\\kappa\\lambda}(\\mu\\nu|\\kappa\\lambda)D_{\\lambda\\kappa}^{[n]}\n",
    "\\end{equation}\n",
    "and \n",
    "\\begin{equation}\n",
    "  K^{[n]}_{\\mu\\nu} = \\sum_{\\kappa\\lambda}(\\mu\\kappa|\\nu\\lambda)D_{\\lambda\\kappa}^{[n]}\n",
    "\\end{equation}\n",
    "\n",
    "Finally, the Fock matrix is:\n",
    "\\begin{equation}\n",
    "\\mathbf{F} = \\mathbf{h} + 2\\mathbf{J} - \\mathbf{K}\n",
    "\\end{equation}"
   ]
  },
  {
   "cell_type": "code",
   "execution_count": 70,
   "id": "broken-summer",
   "metadata": {},
   "outputs": [
    {
     "name": "stdout",
     "output_type": "stream",
     "text": [
      "# it.    SCF energy (E_h)    |Delta_E|       Delta_D\n",
      "  0      -51.967424601282        N/A            N/A\n",
      "  1      -74.960337070648   2.29929e+01    1.43751e-08   CONVERGED!\n",
      "Roothaan-Hall iterations converged!\n"
     ]
    }
   ],
   "source": [
    "print(\"# it.    SCF energy (E_h)    |Delta_E|       Delta_D\")\n",
    "print(f\"  0  {E:20.12f}        N/A            N/A\")\n",
    "\n",
    "for it in range(1, max_iter+1):\n",
    "    # build Fock matrix\n",
    "    J = np.einsum(\"PQrs,sr->PQ\", eri, D, optimize=True)\n",
    "    K = np.einsum(\"PrQs,sr->PQ\", eri, D, optimize=True)\n",
    "    F = h + 2*J - K\n",
    "    \n",
    "    # transform Fock matrix to orthogonal AO basis\n",
    "    F_OAO = AO_to_OAO(F, X)\n",
    "    \n",
    "    # diagonalize\n",
    "    _, C_OAO = np.linalg.eigh(F_OAO)\n",
    "    \n",
    "    # backtransform coefficients\n",
    "    C = np.einsum(\"kP,kQ->PQ\", X, C_OAO)\n",
    "    \n",
    "    # form density matrix from occupied slice of coefficients\n",
    "    D_ = np.einsum(\"Pi,Qi->PQ\", C[:, :N_O], C[:, :N_O], optimize=True)\n",
    "    \n",
    "    # evaluate energy\n",
    "    E_ = np.einsum(\"pq,qp->\", h+F, D_, optimize=True) + E_NN\n",
    "    \n",
    "    # compute convergence metric\n",
    "    Delta_D = np.linalg.norm(D_ - D)\n",
    "    \n",
    "    # print iteration stats\n",
    "    print(f\" {it:>2d}  {E_:20.12f}   {np.abs(E_ - E):7.5e}    {Delta_D:7.5e}   {'CONVERGED!' if Delta_D < threshold else ''}\")\n",
    "    \n",
    "    # update current density and current energy\n",
    "    D = D_\n",
    "    E = E_\n",
    "    \n",
    "    # check if convergence threshold was met\n",
    "    if Delta_D < conv_thresh:\n",
    "        print(\"Roothaan-Hall iterations converged!\")\n",
    "        break\n",
    "    \n",
    "    if it == max_iter:\n",
    "        raise RuntimeError(\"Maximum number of Roothaan-Hall exceeded!\")"
   ]
  },
  {
   "cell_type": "markdown",
   "id": "roman-synthesis",
   "metadata": {},
   "source": [
    "Let's compare the result of our own SCF with that obtainable from VeloxChem."
   ]
  },
  {
   "cell_type": "code",
   "execution_count": 55,
   "id": "horizontal-queen",
   "metadata": {},
   "outputs": [
    {
     "name": "stdout",
     "output_type": "stream",
     "text": [
      "                                                                                                                          \n",
      "                                            Self Consistent Field Driver Setup                                            \n",
      "                                           ====================================                                           \n",
      "                                                                                                                          \n",
      "                   Wave Function Model             : Spin-Restricted Hartree-Fock                                         \n",
      "                   Initial Guess Model             : Superposition of Atomic Densities                                    \n",
      "                   Convergence Accelerator         : Two Level Direct Inversion of Iterative Subspace                     \n",
      "                   Max. Number of Iterations       : 50                                                                   \n",
      "                   Max. Number of Error Vectors    : 10                                                                   \n",
      "                   Convergence Threshold           : 1.0e-06                                                              \n",
      "                   ERI Screening Scheme            : Cauchy Schwarz + Density                                             \n",
      "                   ERI Screening Mode              : Dynamic                                                              \n",
      "                   ERI Screening Threshold         : 1.0e-12                                                              \n",
      "                   Linear Dependence Threshold     : 1.0e-06                                                              \n",
      "                                                                                                                          \n",
      "* Info * Nuclear repulsion energy: 9.3436381580 au                                                                        \n",
      "                                                                                                                          \n",
      "* Info * Overlap matrix computed in 0.00 sec.                                                                             \n",
      "                                                                                                                          \n",
      "* Info * Kinetic energy matrix computed in 0.00 sec.                                                                      \n",
      "                                                                                                                          \n",
      "* Info * Nuclear potential matrix computed in 0.00 sec.                                                                   \n",
      "                                                                                                                          \n",
      "* Info * Orthogonalization matrix computed in 0.00 sec.                                                                   \n",
      "                                                                                                                          \n",
      "* Info * SAD initial guess computed in 0.00 sec.                                                                          \n",
      "                                                                                                                          \n",
      "* Info * Starting Reduced Basis SCF calculation...                                                                        \n",
      "* Info * ...done. SCF energy in reduced basis set: -74.960337067134 au. Time: 0.03 sec.                                   \n",
      "                                                                                                                          \n",
      "* Info * Overlap matrix computed in 0.00 sec.                                                                             \n",
      "                                                                                                                          \n",
      "* Info * Kinetic energy matrix computed in 0.00 sec.                                                                      \n",
      "                                                                                                                          \n",
      "* Info * Nuclear potential matrix computed in 0.00 sec.                                                                   \n",
      "                                                                                                                          \n",
      "* Info * Orthogonalization matrix computed in 0.00 sec.                                                                   \n",
      "                                                                                                                          \n",
      "                                                                                                                          \n",
      "               Iter. | Hartree-Fock Energy | Energy Change | Gradient Norm | Max. Gradient | Density Change               \n",
      "               --------------------------------------------------------------------------------------------               \n",
      "                  1       -74.960337068856    0.0000000000      0.00002391      0.00000577      0.00000000                \n",
      "                  2       -74.960337069025   -0.0000000002      0.00000785      0.00000178      0.00001947                \n",
      "                  3       -74.960337069049   -0.0000000000      0.00000050      0.00000012      0.00001040                \n",
      "                                                                                                                          \n",
      "               *** SCF converged in 3 iterations. Time: 0.02 sec.                                                         \n",
      "                                                                                                                          \n",
      "               Spin-Restricted Hartree-Fock:                                                                              \n",
      "               -----------------------------                                                                              \n",
      "               Total Energy                       :      -74.9603370690 au                                                \n",
      "               Electronic Energy                  :      -84.3039752270 au                                                \n",
      "               Nuclear Repulsion Energy           :        9.3436381580 au                                                \n",
      "               ------------------------------------                                                                       \n",
      "               Gradient Norm                      :        0.0000004994 au                                                \n",
      "                                                                                                                          \n",
      "                                                                                                                          \n",
      "               Ground State Information                                                                                   \n",
      "               ------------------------                                                                                   \n",
      "               Charge of Molecule            :  0.0                                                                       \n",
      "               Multiplicity (2S+1)           :  1.0                                                                       \n",
      "               Magnetic Quantum Number (M_S) :  0.0                                                                       \n",
      "                                                                                                                          \n",
      "                                                                                                                          \n",
      "                                                 Spin Restricted Orbitals                                                 \n",
      "                                                 ------------------------                                                 \n",
      "                                                                                                                          \n",
      "               Molecular Orbital No.   1:                                                                                 \n",
      "               --------------------------                                                                                 \n",
      "               Occupation: 2.0 Energy:  -20.24119 au                                                                      \n",
      "               (   1 O   1s  :    -0.99)                                                                                  \n",
      "                                                                                                                          \n",
      "               Molecular Orbital No.   2:                                                                                 \n",
      "               --------------------------                                                                                 \n",
      "               Occupation: 2.0 Energy:   -1.27737 au                                                                      \n",
      "               (   1 O   1s  :     0.23) (   1 O   2s  :    -0.83) (   2 H   1s  :    -0.16)                              \n",
      "               (   3 H   1s  :    -0.16)                                                                                  \n",
      "                                                                                                                          \n",
      "               Molecular Orbital No.   3:                                                                                 \n",
      "               --------------------------                                                                                 \n",
      "               Occupation: 2.0 Energy:   -0.62456 au                                                                      \n",
      "               (   1 O   1p-1:     0.61) (   2 H   1s  :     0.44) (   3 H   1s  :    -0.44)                              \n",
      "                                                                                                                          \n",
      "               Molecular Orbital No.   4:                                                                                 \n",
      "               --------------------------                                                                                 \n",
      "               Occupation: 2.0 Energy:   -0.45684 au                                                                      \n",
      "               (   1 O   2s  :     0.54) (   1 O   1p0 :    -0.78) (   2 H   1s  :    -0.27)                              \n",
      "               (   3 H   1s  :    -0.27)                                                                                  \n",
      "                                                                                                                          \n",
      "               Molecular Orbital No.   5:                                                                                 \n",
      "               --------------------------                                                                                 \n",
      "               Occupation: 2.0 Energy:   -0.39296 au                                                                      \n",
      "               (   1 O   1p+1:    -1.00)                                                                                  \n",
      "                                                                                                                          \n",
      "               Molecular Orbital No.   6:                                                                                 \n",
      "               --------------------------                                                                                 \n",
      "               Occupation: 0.0 Energy:    0.62228 au                                                                      \n",
      "               (   1 O   2s  :    -0.91) (   1 O   1p0 :    -0.75) (   2 H   1s  :     0.81)                              \n",
      "               (   3 H   1s  :     0.81)                                                                                  \n",
      "                                                                                                                          \n",
      "               Molecular Orbital No.   7:                                                                                 \n",
      "               --------------------------                                                                                 \n",
      "               Occupation: 0.0 Energy:    0.75803 au                                                                      \n",
      "               (   1 O   1p-1:    -1.00) (   2 H   1s  :     0.85) (   3 H   1s  :    -0.85)                              \n",
      "                                                                                                                          \n",
      "Difference with reference result: -1.11210667e-07\n"
     ]
    }
   ],
   "source": [
    "scfdrv = vlx.ScfRestrictedDriver()\n",
    "scfdrv.compute(mol, basis)\n",
    "ref_E = scfdrv.get_scf_energy()"
   ]
  },
  {
   "cell_type": "code",
   "execution_count": 56,
   "id": "random-passenger",
   "metadata": {},
   "outputs": [
    {
     "name": "stdout",
     "output_type": "stream",
     "text": [
      "Difference with reference result: -1.11210667e-07\n"
     ]
    }
   ],
   "source": [
    "print(f\"Difference with reference result: {E-ref_E:5.8e}\")"
   ]
  },
  {
   "cell_type": "markdown",
   "id": "constant-newfoundland",
   "metadata": {},
   "source": [
    "## Discussion points\n",
    "\n",
    "- Convergence patterns\n",
    "- Convergence acceleration\n",
    "- Scaling"
   ]
  }
 ],
 "metadata": {
  "kernelspec": {
   "display_name": "Python 3",
   "language": "python",
   "name": "python3"
  },
  "language_info": {
   "codemirror_mode": {
    "name": "ipython",
    "version": 3
   },
   "file_extension": ".py",
   "mimetype": "text/x-python",
   "name": "python",
   "nbconvert_exporter": "python",
   "pygments_lexer": "ipython3",
   "version": "3.8.8"
  }
 },
 "nbformat": 4,
 "nbformat_minor": 5
}
