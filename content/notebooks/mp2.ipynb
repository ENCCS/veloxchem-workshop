{
 "cells": [
  {
   "cell_type": "code",
   "execution_count": 1,
   "metadata": {
    "tags": [
     "remove_cell"
    ]
   },
   "outputs": [],
   "source": [
    "\"\"\"Møller-Plesset perturbation theory to second order\"\"\"\n",
    "\n",
    "__author__    = \"Roberto Di Remigio\"\n",
    "__credit__    = [\"Roberto Di Remigio\", \"Xin Li\"]\n",
    "\n",
    "__copyright__ = \"(c) 2021, ENCSS and PDC\"\n",
    "__license__   = \"MIT\"\n",
    "__date__      = \"2021-04-13\""
   ]
  },
  {
   "cell_type": "markdown",
   "metadata": {
    "tags": [
     "remove_cell"
    ]
   },
   "source": [
    "<figure>\n",
    "  <IMG SRC=\"../img/ENCCS-PDC-logos.jpg\" WIDTH=150 ALIGN=\"right\">\n",
    "</figure>"
   ]
  },
  {
   "cell_type": "markdown",
   "metadata": {
    "tags": []
   },
   "source": [
    "# Møller-Plesset perturbation theory to second order"
   ]
  },
  {
   "cell_type": "markdown",
   "metadata": {
    "tags": [
     "remove_cell"
    ]
   },
   "source": [
    "<div style=\"background: #efffed;\n",
    "            border: 1px solid grey;\n",
    "            margin: 8px 0 8px 0;\n",
    "            text-align: center;\n",
    "            padding: 8px; \">\n",
    "    <i class=\"fa-play fa\" \n",
    "       style=\"font-size: 40px;\n",
    "              line-height: 40px;\n",
    "              margin: 8px;\n",
    "              color: #444;\">\n",
    "    </i>\n",
    "    <div>\n",
    "    To run the selected code cell, hit <pre style=\"background: #efffed\">Shift + Enter</pre>\n",
    "    </div>\n",
    "</div>"
   ]
  },
  {
   "cell_type": "code",
   "execution_count": 3,
   "metadata": {},
   "outputs": [
    {
     "name": "stdout",
     "output_type": "stream",
     "text": [
      "* Warning * Environment variable OMP_NUM_THREADS not set.\n",
      "* Warning * Setting OMP_NUM_THREADS to 12.\n",
      "Molecular Geometry (Angstroms)\n",
      "================================\n",
      "\n",
      "  Atom         Coordinate X          Coordinate Y          Coordinate Z  \n",
      "\n",
      "  O           0.000000000000        0.000000000000        0.000000000000\n",
      "  H           0.000000000000        0.740848095288        0.582094932012\n",
      "  H           0.000000000000       -0.740848095288        0.582094932012\n",
      "\n",
      "Molecular Basis (Atomic Basis)\n",
      "================================\n",
      "\n",
      "Basis: STO-3G                                         \n",
      "\n",
      "  Atom Contracted GTOs          Primitive GTOs           \n",
      "\n",
      "  H   (1S)                     (3S)                     \n",
      "  O   (2S,1P)                  (6S,3P)                  \n",
      "\n",
      "Contracted Basis Functions : 7                        \n",
      "Primitive Basis Functions  : 21                       \n",
      "\n"
     ]
    }
   ],
   "source": [
    "import veloxchem as vlx\n",
    "import numpy as np\n",
    "\n",
    "h2o_xyz = \"\"\"3\n",
    "water                                                                                                                          \n",
    "O    0.000000000000        0.000000000000        0.000000000000                         \n",
    "H    0.000000000000        0.740848095288        0.582094932012                         \n",
    "H    0.000000000000       -0.740848095288        0.582094932012\n",
    "\"\"\"\n",
    "\n",
    "mol = vlx.Molecule.from_xyz(h2o_xyz)\n",
    "print(mol.get_string())\n",
    "\n",
    "basis = vlx.MolecularBasis.read(mol, \"sto-3g\")\n",
    "print(basis.get_string(mol))"
   ]
  }
 ],
 "metadata": {
  "kernelspec": {
   "display_name": "Python 3",
   "language": "python",
   "name": "python3"
  },
  "language_info": {
   "codemirror_mode": {
    "name": "ipython",
    "version": 3
   },
   "file_extension": ".py",
   "mimetype": "text/x-python",
   "name": "python",
   "nbconvert_exporter": "python",
   "pygments_lexer": "ipython3",
   "version": "3.8.7"
  }
 },
 "nbformat": 4,
 "nbformat_minor": 5
}
